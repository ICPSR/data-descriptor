{
 "cells": [
  {
   "cell_type": "markdown",
   "id": "777e9aba-d240-49de-a599-66fa0edd8b50",
   "metadata": {},
   "source": [
    "# Describe data"
   ]
  },
  {
   "cell_type": "code",
   "execution_count": 1,
   "id": "2566c35c-d295-4d56-ae55-d72eb3f3e206",
   "metadata": {},
   "outputs": [],
   "source": [
    "import pandas as pd\n",
    "import matplotlib.pyplot as plt\n",
    "import numpy as np"
   ]
  },
  {
   "cell_type": "markdown",
   "id": "c7912014-1ea9-47e4-a2d5-a64d15675317",
   "metadata": {},
   "source": [
    "Studies"
   ]
  },
  {
   "cell_type": "code",
   "execution_count": 2,
   "id": "8e74d8f3-e897-44d8-8be5-5dd46acf7f1b",
   "metadata": {},
   "outputs": [
    {
     "name": "stdout",
     "output_type": "stream",
     "text": [
      "<class 'pandas.core.frame.DataFrame'>\n",
      "RangeIndex: 10610 entries, 0 to 10609\n",
      "Data columns (total 25 columns):\n",
      " #   Column                 Non-Null Count  Dtype  \n",
      "---  ------                 --------------  -----  \n",
      " 0   STUDY                  10610 non-null  int64  \n",
      " 1   DOI                    10610 non-null  object \n",
      " 2   NAME                   10610 non-null  object \n",
      " 3   SERIES                 6683 non-null   float64\n",
      " 4   SERIES_TITLE           6683 non-null   object \n",
      " 5   PRINCIPAL_INV          10610 non-null  object \n",
      " 6   DESCRIPTION            10610 non-null  object \n",
      " 7   RELEASE_DATE           10610 non-null  object \n",
      " 8   FUNDING_AGENCY         5256 non-null   object \n",
      " 9   GEO                    9956 non-null   object \n",
      " 10  TERMS                  10155 non-null  object \n",
      " 11  OWNER                  10610 non-null  object \n",
      " 12  CURATION_LEVEL         1125 non-null   object \n",
      " 13  SINGLE_PI              421 non-null    float64\n",
      " 14  INST_PI                421 non-null    float64\n",
      " 15  TOT_PI                 421 non-null    float64\n",
      " 16  TOTAL_VARS             9283 non-null   float64\n",
      " 17  SDA                    421 non-null    float64\n",
      " 18  QTEXT                  413 non-null    float64\n",
      " 19  SSVD                   413 non-null    float64\n",
      " 20  HAS_RESTRICTED         421 non-null    float64\n",
      " 21  ALL_RESTRICTED         421 non-null    float64\n",
      " 22  USERS_TO_20210511      417 non-null    float64\n",
      " 23  DATAUSERS_TO_20210511  416 non-null    float64\n",
      " 24  CITATIONS_TO_20211116  8030 non-null   float64\n",
      "dtypes: float64(13), int64(1), object(11)\n",
      "memory usage: 2.0+ MB\n"
     ]
    }
   ],
   "source": [
    "df_study = pd.read_csv('../data_transform/ICPSR_STUDIES.csv')\n",
    "df_study.info()"
   ]
  },
  {
   "cell_type": "code",
   "execution_count": 3,
   "id": "fa79fb1c-0176-4755-b58f-52e95d835dc7",
   "metadata": {},
   "outputs": [
    {
     "name": "stdout",
     "output_type": "stream",
     "text": [
      "Unique studies: 10605\n"
     ]
    }
   ],
   "source": [
    "print(f\"Unique studies: {df_study['DOI'].nunique()}\")"
   ]
  },
  {
   "cell_type": "code",
   "execution_count": 4,
   "id": "1a16933e-2dab-48c9-8468-42b53c2e0f84",
   "metadata": {},
   "outputs": [
    {
     "name": "stdout",
     "output_type": "stream",
     "text": [
      "Unique series: 282\n"
     ]
    }
   ],
   "source": [
    "print(f\"Unique series: {df_study['SERIES'].nunique()}\")"
   ]
  },
  {
   "cell_type": "code",
   "execution_count": 5,
   "id": "2519ed7c-0881-4476-b682-38ba505709f7",
   "metadata": {},
   "outputs": [
    {
     "name": "stdout",
     "output_type": "stream",
     "text": [
      "Studies in series: 6683\n",
      "0.6301744460160301\n"
     ]
    }
   ],
   "source": [
    "print(f\"Studies in series: {df_study[df_study['SERIES'].notnull()].STUDY.count()}\")\n",
    "print((df_study[df_study['SERIES'].notnull()].STUDY.count())/(df_study['STUDY'].nunique()))"
   ]
  },
  {
   "cell_type": "code",
   "execution_count": 6,
   "id": "7e696694-effa-4784-ba90-93d3f55bed34",
   "metadata": {},
   "outputs": [
    {
     "data": {
      "text/plain": [
       "PRINCIPAL_INV\n",
       "United States. Bureau of the Census                                                                                                         505\n",
       "United States Department of Justice. Office of Justice Programs. Bureau of Justice Statistics                                               362\n",
       "United States.  Bureau of the Census.                                                                                                       346\n",
       "United States Department of Justice. Bureau of Justice Statistics                                                                           321\n",
       "CBS News, and The New York Times                                                                                                            265\n",
       "CBS News                                                                                                                                    239\n",
       "United States Department of Education.  National Center for Education Statistics.                                                           198\n",
       "United States Department of Justice. Federal Bureau of Investigation                                                                        178\n",
       "United States Department of Health and Human Services. Centers for Disease Control and Prevention. National Center for Health Statistics    173\n",
       "Earls, Felton J., Jeanne Brooks-Gunn, Stephen W. Raudenbush, and Robert J. Sampson                                                          171\n",
       "Name: count, dtype: int64"
      ]
     },
     "execution_count": 6,
     "metadata": {},
     "output_type": "execute_result"
    }
   ],
   "source": [
    "df_study['PRINCIPAL_INV'].value_counts().nlargest(10)"
   ]
  },
  {
   "cell_type": "code",
   "execution_count": 7,
   "id": "1c400279-4bdb-404f-b152-f4210197151e",
   "metadata": {},
   "outputs": [
    {
     "name": "stdout",
     "output_type": "stream",
     "text": [
      "1984-03-18 00:00:00\n",
      "2021-10-28 11:29:31\n"
     ]
    }
   ],
   "source": [
    "print(df_study['RELEASE_DATE'].min()) # summarize temporal coverage\n",
    "print(df_study['RELEASE_DATE'].max())"
   ]
  },
  {
   "cell_type": "code",
   "execution_count": 8,
   "id": "1d87cd07-e66a-4a90-83da-f1ed19275f4b",
   "metadata": {},
   "outputs": [
    {
     "data": {
      "text/plain": [
       "FUNDING_AGENCY\n",
       "United States Department of Justice. Office of Justice Programs. Bureau of Justice Statistics                                                                            1271\n",
       "United States Department of Justice. Office of Justice Programs. National Institute of Justice                                                                           1082\n",
       "National Science Foundation                                                                                                                                               514\n",
       "Robert Wood Johnson Foundation                                                                                                                                            202\n",
       "John D. and Catherine T. MacArthur Foundation                                                                                                                             188\n",
       "United States Department of Health and Human Services. National Institutes of Health. National Institute on Drug Abuse                                                    187\n",
       "United States Department of Justice. Office of Justice Programs. Office of Juvenile Justice and Delinquency Prevention                                                    121\n",
       "United States Department of Health and Human Services. National Institutes of Health. National Institute on Aging                                                         113\n",
       "United States Department of Health and Human Services. National Institutes of Health. Eunice Kennedy Shriver National Institute of Child Health and Human Development      95\n",
       "United States Department of Health and Human Services. National Institutes of Health. National Institute of Mental Health                                                  65\n",
       "Name: count, dtype: int64"
      ]
     },
     "execution_count": 8,
     "metadata": {},
     "output_type": "execute_result"
    }
   ],
   "source": [
    "df_study['FUNDING_AGENCY'].value_counts().nlargest(10)"
   ]
  },
  {
   "cell_type": "code",
   "execution_count": 9,
   "id": "8e8ed967-7d34-4b1a-9a38-0c6fc5f5fee4",
   "metadata": {},
   "outputs": [
    {
     "data": {
      "text/plain": [
       "GEO\n",
       "United States                                                                                                                                                                                                                                                                                                                                                                                                                                                                                                                                                                            6012\n",
       "Chicago; Illinois; United States                                                                                                                                                                                                                                                                                                                                                                                                                                                                                                                                                          221\n",
       "American Samoa; Guam; Marshall Islands; Puerto Rico; United States; Virgin Islands of the United States; Global                                                                                                                                                                                                                                                                                                                                                                                                                                                                           111\n",
       "Global                                                                                                                                                                                                                                                                                                                                                                                                                                                                                                                                                                                    102\n",
       "California; United States                                                                                                                                                                                                                                                                                                                                                                                                                                                                                                                                                                  73\n",
       "Detroit; Michigan; United States                                                                                                                                                                                                                                                                                                                                                                                                                                                                                                                                                           71\n",
       "New York (state); New York City; United States                                                                                                                                                                                                                                                                                                                                                                                                                                                                                                                                             69\n",
       "California; Los Angeles; United States                                                                                                                                                                                                                                                                                                                                                                                                                                                                                                                                                     43\n",
       "Alabama; Alaska; Arizona; Arkansas; California; Colorado; Connecticut; Delaware; District of Columbia; Florida; Georgia; Hawaii; Idaho; Illinois; Indiana; Iowa; Kansas; Kentucky; Louisiana; Maine; Maryland; Massachusetts; Michigan; Minnesota; Mississippi; Missouri; Montana; Nebraska; Nevada; New Hampshire; New Jersey; New Mexico; New York (state); North Carolina; North Dakota; Ohio; Oklahoma; Oregon; Pennsylvania; Rhode Island; South Carolina; South Dakota; Tennessee; Texas; United States; Utah; Vermont; Virginia; Washington; West Virginia; Wisconsin; Wyoming      42\n",
       "Europe; Spain; Global                                                                                                                                                                                                                                                                                                                                                                                                                                                                                                                                                                      41\n",
       "Name: count, dtype: int64"
      ]
     },
     "execution_count": 9,
     "metadata": {},
     "output_type": "execute_result"
    }
   ],
   "source": [
    "df_study['GEO'].value_counts().nlargest(10)"
   ]
  },
  {
   "cell_type": "code",
   "execution_count": 10,
   "id": "df437a34-f59e-4a90-88ec-59be09da2841",
   "metadata": {},
   "outputs": [
    {
     "name": "stdout",
     "output_type": "stream",
     "text": [
      "0.563979255068364\n"
     ]
    },
    {
     "data": {
      "text/plain": [
       "OWNER\n",
       "ICPSR         5981\n",
       "NACJD         2881\n",
       "NACDA          491\n",
       "NAHDAP         282\n",
       "HMCA           215\n",
       "appfed         187\n",
       "RCMD           167\n",
       "DSDR           107\n",
       "CFDA            95\n",
       "NADAC           90\n",
       "APA             40\n",
       "civicleads      23\n",
       "ADDEP           19\n",
       "METLDB           8\n",
       "AERA             8\n",
       "odf              6\n",
       "pcoridata        3\n",
       "pcodr            3\n",
       "UCC              2\n",
       "gmsdata          1\n",
       "DAIRL            1\n",
       "Name: count, dtype: int64"
      ]
     },
     "execution_count": 10,
     "metadata": {},
     "output_type": "execute_result"
    }
   ],
   "source": [
    "print(len(df_study[df_study['OWNER']=='ICPSR'])/df_study['STUDY'].nunique())\n",
    "df_study['OWNER'].value_counts()"
   ]
  },
  {
   "cell_type": "code",
   "execution_count": 11,
   "id": "795ecab1-3354-4eb0-ab59-d89c1586e0aa",
   "metadata": {},
   "outputs": [],
   "source": [
    "# size=df_study['CURATION_LEVEL'].value_counts().sort_values(ascending=False)\n",
    "# print(size)\n",
    "\n",
    "# my_circle = plt.Circle( (0,0), 0.7, color='white')\n",
    "\n",
    "# plt.figure(figsize=(10,10))\n",
    "# plt.pie(size, labels=size.index)\n",
    "# p = plt.gcf()\n",
    "# p.gca().add_artist(my_circle)\n",
    "\n",
    "# plt.savefig('../figures/cur_level.pdf', format=\"pdf\")\n",
    "# plt.show()"
   ]
  },
  {
   "cell_type": "code",
   "execution_count": 35,
   "id": "f4854cf6-6fd4-4a49-872f-9024d716ad04",
   "metadata": {},
   "outputs": [
    {
     "data": {
      "text/plain": [
       "0.8017777777777778"
      ]
     },
     "execution_count": 35,
     "metadata": {},
     "output_type": "execute_result"
    }
   ],
   "source": [
    "df_study['CURATION_LEVEL'].value_counts()\n",
    "(328 +301 + 273)/1125"
   ]
  },
  {
   "cell_type": "code",
   "execution_count": 29,
   "id": "a61258f3-aaf3-40e1-9513-383a5a214772",
   "metadata": {},
   "outputs": [
    {
     "data": {
      "image/png": "[encoded data removed]",
      "text/plain": [
       "<Figure size 1440x720 with 1 Axes>"
      ]
     },
     "metadata": {
      "needs_background": "light"
     },
     "output_type": "display_data"
    }
   ],
   "source": [
    "ax = (df_study['CURATION_LEVEL']\n",
    "      .value_counts().sort_values(ascending=True)\n",
    "      .plot.barh(alpha=0.5,figsize=(20,10),fontsize=20));\n",
    "plt.ylabel('Curation Level', fontsize=20)\n",
    "fig = ax.get_figure()\n",
    "fig.savefig('../figures/cur_level.pdf', format=\"pdf\")"
   ]
  },
  {
   "cell_type": "code",
   "execution_count": 13,
   "id": "8d90263c-5592-4dcd-80bb-5338d7b0acc7",
   "metadata": {},
   "outputs": [
    {
     "data": {
      "image/png": "[encoded data removed]",
      "text/plain": [
       "<Figure size 432x288 with 1 Axes>"
      ]
     },
     "metadata": {
      "needs_background": "light"
     },
     "output_type": "display_data"
    }
   ],
   "source": [
    "df_study['TOTAL_VARS'].plot.hist(bins=20);"
   ]
  },
  {
   "cell_type": "code",
   "execution_count": 14,
   "id": "d2a65701-d516-41e6-92bf-8b7f3ec8a01d",
   "metadata": {},
   "outputs": [
    {
     "data": {
      "image/png": "[encoded data removed]",
      "text/plain": [
       "<Figure size 1440x720 with 1 Axes>"
      ]
     },
     "metadata": {
      "needs_background": "light"
     },
     "output_type": "display_data"
    }
   ],
   "source": [
    "df_cit_down = df_study[df_study['USERS_TO_20210511'].notnull()&df_study['CITATIONS_TO_20211116'].notnull()]\n",
    "df_cit_down = df_cit_down[['CITATIONS_TO_20211116','USERS_TO_20210511']]\n",
    "\n",
    "ax = df_cit_down.plot.hist(bins=25, alpha=0.5,figsize=(20,10),fontsize=20);\n",
    "plt.ylabel('Frequency', fontsize=20)\n",
    "plt.legend(['Citations through 2021', 'Users through 2021'], fontsize=16)\n",
    "fig = ax.get_figure()\n",
    "fig.savefig('../figures/study_use.pdf', format=\"pdf\")"
   ]
  },
  {
   "cell_type": "markdown",
   "id": "985c9c89-f24d-4873-a7b1-395c6c77578e",
   "metadata": {},
   "source": [
    "Papers"
   ]
  },
  {
   "cell_type": "code",
   "execution_count": 15,
   "id": "69290d38-9c87-40ef-b5c1-649ac536757c",
   "metadata": {},
   "outputs": [
    {
     "name": "stdout",
     "output_type": "stream",
     "text": [
      "<class 'pandas.core.frame.DataFrame'>\n",
      "RangeIndex: 94794 entries, 0 to 94793\n",
      "Data columns (total 13 columns):\n",
      " #   Column       Non-Null Count  Dtype \n",
      "---  ------       --------------  ----- \n",
      " 0   REF_ID       94794 non-null  int64 \n",
      " 1   DOI          43102 non-null  object\n",
      " 2   TITLE        94789 non-null  object\n",
      " 3   AUTHORS      94793 non-null  object\n",
      " 4   SEC_TITLE    78217 non-null  object\n",
      " 5   RIS_TYPE     94794 non-null  object\n",
      " 6   FUNDER       490 non-null    object\n",
      " 7   YEAR_PUB     94794 non-null  int64 \n",
      " 8   DATE_INPUT   94118 non-null  object\n",
      " 9   SERIES_NUMS  2338 non-null   object\n",
      " 10  STUDY_NUMS   94794 non-null  object\n",
      " 11  DIM_ID       40646 non-null  object\n",
      " 12  DIM_LINKOUT  14982 non-null  object\n",
      "dtypes: int64(2), object(11)\n",
      "memory usage: 9.4+ MB\n"
     ]
    }
   ],
   "source": [
    "df_paper = pd.read_csv('../data_transform/ICPSR_PAPERS.csv')\n",
    "df_paper.info()"
   ]
  },
  {
   "cell_type": "code",
   "execution_count": 16,
   "id": "f39b4254-858e-496d-bc9e-544ffa7290fa",
   "metadata": {},
   "outputs": [
    {
     "name": "stdout",
     "output_type": "stream",
     "text": [
      "Unique papers: 94755\n"
     ]
    }
   ],
   "source": [
    "print(f\"Unique papers: {df_paper.REF_ID.nunique()}\")"
   ]
  },
  {
   "cell_type": "code",
   "execution_count": 17,
   "id": "ced53b1b-64d3-4584-8dc8-86aa2c76d771",
   "metadata": {},
   "outputs": [
    {
     "name": "stdout",
     "output_type": "stream",
     "text": [
      "Papers with a DOI: 43102\n",
      "Papers without a DOI: 51692\n",
      "0.45\n"
     ]
    }
   ],
   "source": [
    "with_doi = len(df_paper[df_paper.DOI.notna()])\n",
    "no_doi = len(df_paper[df_paper.DOI.isna()])\n",
    "\n",
    "print(f\"Papers with a DOI: {with_doi}\")\n",
    "print(f\"Papers without a DOI: {no_doi}\")\n",
    "print(round(with_doi/df_paper.REF_ID.nunique(),2))"
   ]
  },
  {
   "cell_type": "code",
   "execution_count": 18,
   "id": "4846918a-dfec-4258-9936-3229092c61b9",
   "metadata": {},
   "outputs": [
    {
     "name": "stdout",
     "output_type": "stream",
     "text": [
      "1963\n",
      "2022\n",
      "59\n"
     ]
    }
   ],
   "source": [
    "print(df_paper[df_paper['YEAR_PUB']!=0].YEAR_PUB.min()) # summarize temporal coverage excluding items recoded to 0\n",
    "print(df_paper['YEAR_PUB'].max())\n",
    "print(df_paper['YEAR_PUB'].max() - df_paper[df_paper['YEAR_PUB']!=0].YEAR_PUB.min())"
   ]
  },
  {
   "cell_type": "code",
   "execution_count": 19,
   "id": "96271c5e-3f00-451b-982b-f9ac9e1a0148",
   "metadata": {},
   "outputs": [
    {
     "data": {
      "image/png": "[encoded data removed]",
      "text/plain": [
       "<Figure size 720x720 with 1 Axes>"
      ]
     },
     "metadata": {},
     "output_type": "display_data"
    }
   ],
   "source": [
    "full_names = ['Journal Article', \n",
    "              'Report', \n",
    "              'Conference Proceedings', \n",
    "              'Thesis', \n",
    "              'Book Section', \n",
    "              'Book', \n",
    "              'Document', \n",
    "              'Newspaper Article', \n",
    "              'Electronic Source', \n",
    "              'Magazine Article',\n",
    "              'Audiovisual Material']\n",
    "\n",
    "ris_types = pd.DataFrame(df_paper['RIS_TYPE'].value_counts()).reset_index()\n",
    "ris_types['full_names'] = full_names\n",
    "ris_types['percent'] = (round((ris_types['count']/ris_types['count'].sum())*100,2)) # get percent of RIS types\n",
    "ris_types['label'] = ris_types['full_names'].astype('str') + \": \" + ris_types['percent'].astype('str')  + \"%\"\n",
    "\n",
    "size = df_paper['RIS_TYPE'].value_counts().sort_values(ascending=False)\n",
    "# labels = (round((ris_types/ris_types.sum())*100,2))\n",
    "\n",
    "my_circle = plt.Circle( (0,0), 0.7, color='white')\n",
    "\n",
    "plt.figure(figsize=(10,10))\n",
    "# plt.pie(size, labels=size.index)\n",
    "plt.pie(size)\n",
    "plt.legend(labels=ris_types['label'], bbox_to_anchor=(-0.1, 1.),fontsize=10)\n",
    "\n",
    "p = plt.gcf()\n",
    "p.gca().add_artist(my_circle)\n",
    "\n",
    "plt.tight_layout()\n",
    "plt.savefig('../figures/ris_type.pdf', format=\"pdf\")\n",
    "plt.show()"
   ]
  },
  {
   "cell_type": "code",
   "execution_count": 20,
   "id": "2dc61192-d06b-448d-b4b7-0c414fbd254a",
   "metadata": {},
   "outputs": [
    {
     "data": {
      "text/plain": [
       "42.88"
      ]
     },
     "execution_count": 20,
     "metadata": {},
     "output_type": "execute_result"
    }
   ],
   "source": [
    "round((df_paper[df_paper['DIM_ID']!=''].DIM_ID.count()/df_paper['REF_ID'].count())*100,2) # items with Dimensions ID"
   ]
  },
  {
   "cell_type": "code",
   "execution_count": 21,
   "id": "5154f19c-8dd0-446b-8262-b1bc45b599c0",
   "metadata": {},
   "outputs": [
    {
     "data": {
      "text/plain": [
       "15.8"
      ]
     },
     "execution_count": 21,
     "metadata": {},
     "output_type": "execute_result"
    }
   ],
   "source": [
    "round((df_paper[df_paper['DIM_LINKOUT']!=''].DIM_LINKOUT.count()/df_paper['REF_ID'].count())*100,2) # items with full text link"
   ]
  },
  {
   "cell_type": "code",
   "execution_count": 22,
   "id": "19a09922-5be8-4b52-8fdf-f6e204182f7d",
   "metadata": {},
   "outputs": [
    {
     "name": "stderr",
     "output_type": "stream",
     "text": [
      "<ipython-input-22-4e30d8032ed6>:2: SettingWithCopyWarning: \n",
      "A value is trying to be set on a copy of a slice from a DataFrame.\n",
      "Try using .loc[row_indexer,col_indexer] = value instead\n",
      "\n",
      "See the caveats in the documentation: https://pandas.pydata.org/pandas-docs/stable/user_guide/indexing.html#returning-a-view-versus-a-copy\n",
      "  df_decs['Decade'] = (10 * (df_decs['YEAR_PUB'] // 10))\n"
     ]
    },
    {
     "data": {
      "image/png": "[encoded data removed]",
      "text/plain": [
       "<Figure size 1440x720 with 1 Axes>"
      ]
     },
     "metadata": {
      "needs_background": "light"
     },
     "output_type": "display_data"
    }
   ],
   "source": [
    "df_decs = df_paper[df_paper['YEAR_PUB']>1962]\n",
    "df_decs['Decade'] = (10 * (df_decs['YEAR_PUB'] // 10))\n",
    "# ax = df_decs['Decade'].value_counts().sort_values().plot.barh(figsize=(20,10));\n",
    "ax = (df_decs['Decade']\n",
    "      .value_counts()\n",
    "      .sort_values(ascending=True)\n",
    "      .plot\n",
    "      .barh(alpha=0.5,figsize=(20,10),fontsize=20));\n",
    "plt.ylabel('Decade', fontsize=20)\n",
    "fig = ax.get_figure()\n",
    "fig.savefig('../figures/pub_dec.pdf', format=\"pdf\")"
   ]
  },
  {
   "cell_type": "markdown",
   "id": "29af9c70-ff8e-481e-bd3b-5339e9aa467f",
   "metadata": {},
   "source": [
    "Studies with one or more citations"
   ]
  },
  {
   "cell_type": "code",
   "execution_count": 23,
   "id": "14977709-8bf1-42c6-9a5e-10a53e048f46",
   "metadata": {},
   "outputs": [
    {
     "name": "stdout",
     "output_type": "stream",
     "text": [
      "Studies with at least one citation: 8025\n",
      "Studies without any citation: 2580\n",
      "Percent of studies with at least one citation: 0.7567185289957568\n",
      "Percent of studies without any citations: 0.24328147100424324\n"
     ]
    },
    {
     "data": {
      "text/plain": [
       "True"
      ]
     },
     "execution_count": 23,
     "metadata": {},
     "output_type": "execute_result"
    }
   ],
   "source": [
    "df_paper['STUDY'] = df_paper.STUDY_NUMS.str.split(\";\")\n",
    "exploded_bib = df_paper.explode(\"STUDY\")\n",
    "exploded_bib[\"STUDY\"] = exploded_bib[\"STUDY\"].astype(str).astype(float)\n",
    "\n",
    "df_stud_bib = exploded_bib.merge(df_study, on='STUDY')\n",
    "\n",
    "print(\"Studies with at least one citation:\",df_stud_bib.STUDY.nunique())\n",
    "print(\"Studies without any citation:\",(df_study.STUDY.nunique() - df_stud_bib.STUDY.nunique()))\n",
    "\n",
    "print(\"Percent of studies with at least one citation:\", df_stud_bib.STUDY.nunique()/df_study.STUDY.nunique())\n",
    "print(\"Percent of studies without any citations:\", 1-(df_stud_bib.STUDY.nunique()/df_study.STUDY.nunique()))\n",
    "\n",
    "df_stud_bib.STUDY.nunique()+(df_study.STUDY.nunique() - df_stud_bib.STUDY.nunique()) == df_study.STUDY.nunique() #validate"
   ]
  },
  {
   "cell_type": "markdown",
   "id": "2af18e56-e64a-41b6-afa1-3c9e5af8c0e8",
   "metadata": {},
   "source": [
    "Curation actions"
   ]
  },
  {
   "cell_type": "code",
   "execution_count": 24,
   "id": "ec6341a8-c6c4-4000-831b-1fcfa7b96ced",
   "metadata": {},
   "outputs": [
    {
     "name": "stdout",
     "output_type": "stream",
     "text": [
      "<class 'pandas.core.frame.DataFrame'>\n",
      "RangeIndex: 13425 entries, 0 to 13424\n",
      "Data columns (total 4 columns):\n",
      " #   Column        Non-Null Count  Dtype  \n",
      "---  ------        --------------  -----  \n",
      " 0   STUDY         13425 non-null  int64  \n",
      " 1   ACTION_LABEL  13425 non-null  object \n",
      " 2   LOG_HRS       12216 non-null  float64\n",
      " 3   STUDY_HRS     13425 non-null  float64\n",
      "dtypes: float64(2), int64(1), object(1)\n",
      "memory usage: 419.7+ KB\n"
     ]
    }
   ],
   "source": [
    "df_action = pd.read_csv('../data_transform/ICPSR_CURATION_LOGS.csv')\n",
    "df_action.info()"
   ]
  },
  {
   "cell_type": "code",
   "execution_count": 25,
   "id": "9d6c7e97-3d87-40bb-bd56-911b6b99c1a7",
   "metadata": {},
   "outputs": [
    {
     "data": {
      "text/plain": [
       "array(['Metadata-study-level', 'Quality-checks', 'Non-curation',\n",
       "       'Initial-review-and-planning', 'Communication-for-study',\n",
       "       'Transformation-of-data', 'Documentation', 'Other'], dtype=object)"
      ]
     },
     "execution_count": 25,
     "metadata": {},
     "output_type": "execute_result"
    }
   ],
   "source": [
    "df_action['ACTION_LABEL'].unique()"
   ]
  },
  {
   "cell_type": "code",
   "execution_count": 26,
   "id": "05de4c64-ccb4-489f-be62-0e425919ec93",
   "metadata": {},
   "outputs": [
    {
     "name": "stdout",
     "output_type": "stream",
     "text": [
      "1984-03-18 00:00:00\n",
      "2021-10-28 11:29:31\n"
     ]
    }
   ],
   "source": [
    "curation_studies = df_action['STUDY'].unique().tolist()\n",
    "mask = df_study['STUDY'].isin(curation_studies)\n",
    "subset = df_study.loc[~mask]\n",
    "\n",
    "print(subset['RELEASE_DATE'].min()) # note: document system-level issue with earliest release date\n",
    "print(subset['RELEASE_DATE'].max())"
   ]
  },
  {
   "cell_type": "code",
   "execution_count": 27,
   "id": "3d4c715b-ff0c-4e25-a02e-c35e8cc55ce4",
   "metadata": {},
   "outputs": [
    {
     "name": "stdout",
     "output_type": "stream",
     "text": [
      "Unique curation logs: 563\n",
      "Percent of studies with curation info: 5.3\n"
     ]
    }
   ],
   "source": [
    "print(f\"Unique curation logs: {df_action['STUDY'].nunique()}\")\n",
    "print(f\"Percent of studies with curation info: {round((df_action['STUDY'].nunique()/df_study['STUDY'].nunique())*100,1)}\")"
   ]
  },
  {
   "cell_type": "code",
   "execution_count": null,
   "id": "40831c99-ff5b-40fc-9aa7-b8db63641498",
   "metadata": {},
   "outputs": [],
   "source": []
  }
 ],
 "metadata": {
  "kernelspec": {
   "display_name": "Python 3",
   "language": "python",
   "name": "python3"
  },
  "language_info": {
   "codemirror_mode": {
    "name": "ipython",
    "version": 3
   },
   "file_extension": ".py",
   "mimetype": "text/x-python",
   "name": "python",
   "nbconvert_exporter": "python",
   "pygments_lexer": "ipython3",
   "version": "3.9.5"
  }
 },
 "nbformat": 4,
 "nbformat_minor": 5
}
