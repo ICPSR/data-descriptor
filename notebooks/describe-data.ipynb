{
 "cells": [
  {
   "cell_type": "markdown",
   "id": "777e9aba-d240-49de-a599-66fa0edd8b50",
   "metadata": {},
   "source": [
    "# Describe data"
   ]
  },
  {
   "cell_type": "code",
   "execution_count": 1,
   "id": "2566c35c-d295-4d56-ae55-d72eb3f3e206",
   "metadata": {},
   "outputs": [],
   "source": [
    "import pandas as pd"
   ]
  },
  {
   "cell_type": "markdown",
   "id": "c7912014-1ea9-47e4-a2d5-a64d15675317",
   "metadata": {},
   "source": [
    "Studies"
   ]
  },
  {
   "cell_type": "code",
   "execution_count": 2,
   "id": "8e74d8f3-e897-44d8-8be5-5dd46acf7f1b",
   "metadata": {},
   "outputs": [
    {
     "name": "stdout",
     "output_type": "stream",
     "text": [
      "<class 'pandas.core.frame.DataFrame'>\n",
      "RangeIndex: 10610 entries, 0 to 10609\n",
      "Data columns (total 25 columns):\n",
      " #   Column                 Non-Null Count  Dtype  \n",
      "---  ------                 --------------  -----  \n",
      " 0   STUDY                  10610 non-null  int64  \n",
      " 1   DOI                    10610 non-null  object \n",
      " 2   NAME                   10610 non-null  object \n",
      " 3   SERIES                 6683 non-null   float64\n",
      " 4   SERIES_TITLE           6683 non-null   object \n",
      " 5   PRINCIPAL_INV          10610 non-null  object \n",
      " 6   DESCRIPTION            10610 non-null  object \n",
      " 7   RELEASE_DATE           10610 non-null  object \n",
      " 8   FUNDING_AGENCY         5256 non-null   object \n",
      " 9   GEO                    9956 non-null   object \n",
      " 10  TERMS                  10155 non-null  object \n",
      " 11  OWNER                  10610 non-null  object \n",
      " 12  CURATION_LEVEL         1125 non-null   object \n",
      " 13  SINGLE_PI              421 non-null    float64\n",
      " 14  INST_PI                421 non-null    float64\n",
      " 15  TOT_PI                 421 non-null    float64\n",
      " 16  TOTAL_VARS             9283 non-null   float64\n",
      " 17  SDA                    421 non-null    float64\n",
      " 18  QTEXT                  413 non-null    float64\n",
      " 19  SSVD                   413 non-null    float64\n",
      " 20  HAS_RESTRICTED         421 non-null    float64\n",
      " 21  ALL_RESTRICTED         421 non-null    float64\n",
      " 22  USERS_TO_20210511      417 non-null    float64\n",
      " 23  DATAUSERS_TO_20210511  416 non-null    float64\n",
      " 24  CITATIONS_TO_20211116  8030 non-null   float64\n",
      "dtypes: float64(13), int64(1), object(11)\n",
      "memory usage: 2.0+ MB\n"
     ]
    }
   ],
   "source": [
    "df_study = pd.read_csv('../data_transform/ICPSR_STUDIES.csv')\n",
    "df_study.info()"
   ]
  },
  {
   "cell_type": "code",
   "execution_count": 3,
   "id": "fa79fb1c-0176-4755-b58f-52e95d835dc7",
   "metadata": {},
   "outputs": [
    {
     "name": "stdout",
     "output_type": "stream",
     "text": [
      "Unique studies: 10605\n"
     ]
    }
   ],
   "source": [
    "print(f\"Unique studies: {df_study['STUDY'].nunique()}\")"
   ]
  },
  {
   "cell_type": "code",
   "execution_count": 4,
   "id": "1a16933e-2dab-48c9-8468-42b53c2e0f84",
   "metadata": {},
   "outputs": [
    {
     "name": "stdout",
     "output_type": "stream",
     "text": [
      "Unique series: 282\n"
     ]
    }
   ],
   "source": [
    "print(f\"Unique series: {df_study['SERIES'].nunique()}\")"
   ]
  },
  {
   "cell_type": "code",
   "execution_count": 5,
   "id": "df437a34-f59e-4a90-88ec-59be09da2841",
   "metadata": {},
   "outputs": [
    {
     "data": {
      "text/plain": [
       "array(['ICPSR', 'NACJD', 'DSDR', 'RCMD', 'NAHDAP', 'NACDA', 'NADAC',\n",
       "       'HMCA', 'CFDA', 'civicleads', 'AERA', 'METLDB', 'APA', 'UCC',\n",
       "       'ADDEP', 'odf', 'gmsdata', 'pcoridata', 'pcodr', 'DAIRL', 'appfed'],\n",
       "      dtype=object)"
      ]
     },
     "execution_count": 5,
     "metadata": {},
     "output_type": "execute_result"
    }
   ],
   "source": [
    "df_study['OWNER'].unique()"
   ]
  },
  {
   "cell_type": "code",
   "execution_count": 6,
   "id": "795ecab1-3354-4eb0-ab59-d89c1586e0aa",
   "metadata": {},
   "outputs": [
    {
     "data": {
      "text/plain": [
       "array([nan, 'Level 1', 'Other', 'Level 2', 'Level 3', 'Fast Release',\n",
       "       'Level 0'], dtype=object)"
      ]
     },
     "execution_count": 6,
     "metadata": {},
     "output_type": "execute_result"
    }
   ],
   "source": [
    "df_study['CURATION_LEVEL'].unique()"
   ]
  },
  {
   "cell_type": "code",
   "execution_count": 7,
   "id": "1c400279-4bdb-404f-b152-f4210197151e",
   "metadata": {},
   "outputs": [
    {
     "name": "stdout",
     "output_type": "stream",
     "text": [
      "1984-03-18 00:00:00\n",
      "2021-10-28 11:29:31\n"
     ]
    }
   ],
   "source": [
    "print(df_study['RELEASE_DATE'].min()) # summarize temporal coverage\n",
    "print(df_study['RELEASE_DATE'].max())"
   ]
  },
  {
   "cell_type": "code",
   "execution_count": 8,
   "id": "8d90263c-5592-4dcd-80bb-5338d7b0acc7",
   "metadata": {},
   "outputs": [
    {
     "data": {
      "text/plain": [
       "array(['ICPSR', 'NACJD', 'DSDR', 'RCMD', 'NAHDAP', 'NACDA', 'NADAC',\n",
       "       'HMCA', 'CFDA', 'civicleads', 'AERA', 'METLDB', 'APA', 'UCC',\n",
       "       'ADDEP', 'odf', 'gmsdata', 'pcoridata', 'pcodr', 'DAIRL', 'appfed'],\n",
       "      dtype=object)"
      ]
     },
     "execution_count": 8,
     "metadata": {},
     "output_type": "execute_result"
    }
   ],
   "source": [
    "df_study['OWNER'].unique()"
   ]
  },
  {
   "cell_type": "markdown",
   "id": "985c9c89-f24d-4873-a7b1-395c6c77578e",
   "metadata": {},
   "source": [
    "Papers"
   ]
  },
  {
   "cell_type": "code",
   "execution_count": 9,
   "id": "69290d38-9c87-40ef-b5c1-649ac536757c",
   "metadata": {},
   "outputs": [
    {
     "name": "stdout",
     "output_type": "stream",
     "text": [
      "<class 'pandas.core.frame.DataFrame'>\n",
      "RangeIndex: 94794 entries, 0 to 94793\n",
      "Data columns (total 13 columns):\n",
      " #   Column       Non-Null Count  Dtype \n",
      "---  ------       --------------  ----- \n",
      " 0   REF_ID       94794 non-null  int64 \n",
      " 1   DOI          43102 non-null  object\n",
      " 2   TITLE        94789 non-null  object\n",
      " 3   AUTHORS      94793 non-null  object\n",
      " 4   SEC_TITLE    78217 non-null  object\n",
      " 5   RIS_TYPE     94794 non-null  object\n",
      " 6   FUNDER       490 non-null    object\n",
      " 7   YEAR_PUB     94794 non-null  int64 \n",
      " 8   DATE_INPUT   94118 non-null  object\n",
      " 9   SERIES_NUMS  2338 non-null   object\n",
      " 10  STUDY_NUMS   94794 non-null  object\n",
      " 11  DIM_ID       40646 non-null  object\n",
      " 12  DIM_LINKOUT  14982 non-null  object\n",
      "dtypes: int64(2), object(11)\n",
      "memory usage: 9.4+ MB\n"
     ]
    }
   ],
   "source": [
    "df_paper = pd.read_csv('../data_transform/ICPSR_PAPERS.csv')\n",
    "df_paper.info()"
   ]
  },
  {
   "cell_type": "code",
   "execution_count": 10,
   "id": "f39b4254-858e-496d-bc9e-544ffa7290fa",
   "metadata": {},
   "outputs": [
    {
     "name": "stdout",
     "output_type": "stream",
     "text": [
      "Unique papers: 94755\n"
     ]
    }
   ],
   "source": [
    "print(f\"Unique papers: {df_paper.REF_ID.nunique()}\")"
   ]
  },
  {
   "cell_type": "code",
   "execution_count": 11,
   "id": "4846918a-dfec-4258-9936-3229092c61b9",
   "metadata": {},
   "outputs": [
    {
     "name": "stdout",
     "output_type": "stream",
     "text": [
      "1963\n",
      "2022\n",
      "59\n"
     ]
    }
   ],
   "source": [
    "print(df_paper[df_paper['YEAR_PUB']!=0].YEAR_PUB.min()) # summarize temporal coverage excluding items recoded to 0\n",
    "print(df_paper['YEAR_PUB'].max())\n",
    "print(df_paper['YEAR_PUB'].max() - df_paper[df_paper['YEAR_PUB']!=0].YEAR_PUB.min())"
   ]
  },
  {
   "cell_type": "code",
   "execution_count": 12,
   "id": "96271c5e-3f00-451b-982b-f9ac9e1a0148",
   "metadata": {},
   "outputs": [
    {
     "name": "stdout",
     "output_type": "stream",
     "text": [
      "RIS_TYPE\n",
      "JOUR    59.06\n",
      "RPRT    13.87\n",
      "CONF     8.85\n",
      "THES     8.46\n",
      "CHAP     4.39\n",
      "BOOK     2.58\n",
      "GEN      1.48\n",
      "NEWS     0.43\n",
      "ELEC     0.41\n",
      "MGZN     0.31\n",
      "ADVS     0.17\n",
      "Name: count, dtype: float64\n"
     ]
    }
   ],
   "source": [
    "ris_types = df_paper['RIS_TYPE'].value_counts() # get percent of RIS types\n",
    "# print(ris_types)\n",
    "print(round((ris_types/ris_types.sum())*100,2))"
   ]
  },
  {
   "cell_type": "code",
   "execution_count": 13,
   "id": "2dc61192-d06b-448d-b4b7-0c414fbd254a",
   "metadata": {},
   "outputs": [
    {
     "data": {
      "text/plain": [
       "42.88"
      ]
     },
     "execution_count": 13,
     "metadata": {},
     "output_type": "execute_result"
    }
   ],
   "source": [
    "round((df_paper[df_paper['DIM_ID']!=''].DIM_ID.count()/df_paper['REF_ID'].count())*100,2) # items with Dimensions ID"
   ]
  },
  {
   "cell_type": "code",
   "execution_count": 14,
   "id": "5154f19c-8dd0-446b-8262-b1bc45b599c0",
   "metadata": {},
   "outputs": [
    {
     "data": {
      "text/plain": [
       "15.8"
      ]
     },
     "execution_count": 14,
     "metadata": {},
     "output_type": "execute_result"
    }
   ],
   "source": [
    "round((df_paper[df_paper['DIM_LINKOUT']!=''].DIM_LINKOUT.count()/df_paper['REF_ID'].count())*100,2) # items with full text link"
   ]
  },
  {
   "cell_type": "markdown",
   "id": "2af18e56-e64a-41b6-afa1-3c9e5af8c0e8",
   "metadata": {},
   "source": [
    "Curation actions"
   ]
  },
  {
   "cell_type": "code",
   "execution_count": 15,
   "id": "ec6341a8-c6c4-4000-831b-1fcfa7b96ced",
   "metadata": {},
   "outputs": [
    {
     "name": "stdout",
     "output_type": "stream",
     "text": [
      "<class 'pandas.core.frame.DataFrame'>\n",
      "RangeIndex: 13425 entries, 0 to 13424\n",
      "Data columns (total 4 columns):\n",
      " #   Column        Non-Null Count  Dtype  \n",
      "---  ------        --------------  -----  \n",
      " 0   STUDY         13425 non-null  int64  \n",
      " 1   ACTION_LABEL  13425 non-null  object \n",
      " 2   LOG_HRS       12216 non-null  float64\n",
      " 3   STUDY_HRS     13425 non-null  float64\n",
      "dtypes: float64(2), int64(1), object(1)\n",
      "memory usage: 419.7+ KB\n"
     ]
    }
   ],
   "source": [
    "df_action = pd.read_csv('../data_transform/ICPSR_CURATION_LOGS.csv')\n",
    "df_action.info()"
   ]
  },
  {
   "cell_type": "code",
   "execution_count": 16,
   "id": "9d6c7e97-3d87-40bb-bd56-911b6b99c1a7",
   "metadata": {},
   "outputs": [
    {
     "data": {
      "text/plain": [
       "array(['Metadata-study-level', 'Quality-checks', 'Non-curation',\n",
       "       'Initial-review-and-planning', 'Communication-for-study',\n",
       "       'Transformation-of-data', 'Documentation', 'Other'], dtype=object)"
      ]
     },
     "execution_count": 16,
     "metadata": {},
     "output_type": "execute_result"
    }
   ],
   "source": [
    "df_action['ACTION_LABEL'].unique()"
   ]
  },
  {
   "cell_type": "code",
   "execution_count": 17,
   "id": "05de4c64-ccb4-489f-be62-0e425919ec93",
   "metadata": {},
   "outputs": [
    {
     "name": "stdout",
     "output_type": "stream",
     "text": [
      "1984-03-18 00:00:00\n",
      "2021-10-28 11:29:31\n"
     ]
    }
   ],
   "source": [
    "curation_studies = df_action['STUDY'].unique().tolist()\n",
    "mask = df_study['STUDY'].isin(curation_studies)\n",
    "subset = df_study.loc[~mask]\n",
    "\n",
    "print(subset['RELEASE_DATE'].min()) # note: document system-level issue with earliest release date\n",
    "print(subset['RELEASE_DATE'].max())"
   ]
  },
  {
   "cell_type": "code",
   "execution_count": 24,
   "id": "3d4c715b-ff0c-4e25-a02e-c35e8cc55ce4",
   "metadata": {},
   "outputs": [
    {
     "name": "stdout",
     "output_type": "stream",
     "text": [
      "Unique curation logs: 563\n",
      "Percent of studies with curation info: 5.3\n"
     ]
    }
   ],
   "source": [
    "print(f\"Unique curation logs: {df_action['STUDY'].nunique()}\")\n",
    "print(f\"Percent of studies with curation info: {round((df_action['STUDY'].nunique()/df_study['STUDY'].nunique())*100,1)}\")"
   ]
  },
  {
   "cell_type": "code",
   "execution_count": null,
   "id": "40831c99-ff5b-40fc-9aa7-b8db63641498",
   "metadata": {},
   "outputs": [],
   "source": []
  }
 ],
 "metadata": {
  "kernelspec": {
   "display_name": "Python 3",
   "language": "python",
   "name": "python3"
  },
  "language_info": {
   "codemirror_mode": {
    "name": "ipython",
    "version": 3
   },
   "file_extension": ".py",
   "mimetype": "text/x-python",
   "name": "python",
   "nbconvert_exporter": "python",
   "pygments_lexer": "ipython3",
   "version": "3.9.5"
  }
 },
 "nbformat": 4,
 "nbformat_minor": 5
}
