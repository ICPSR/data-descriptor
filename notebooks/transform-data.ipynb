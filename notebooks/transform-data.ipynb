{
 "cells": [
  {
   "cell_type": "markdown",
   "id": "e964ba15-86fa-4d38-a825-dd0eff64ba08",
   "metadata": {},
   "source": [
    "# Transform data\n",
    "Pre-process data records used in original research articles\n",
    "- assign column types, clean\n",
    "- rename, reorder columns\n",
    "- merge tables on keys"
   ]
  },
  {
   "cell_type": "code",
   "execution_count": 1,
   "id": "0eee2d5f-2cd6-4376-8ec6-6f039ff59206",
   "metadata": {
    "tags": []
   },
   "outputs": [],
   "source": [
    "import pandas as pd\n",
    "import numpy as np\n",
    "import re"
   ]
  },
  {
   "cell_type": "markdown",
   "id": "d26da49f-3abd-43b3-a62d-ace6847b99d4",
   "metadata": {},
   "source": [
    "Text cleaning helper functions"
   ]
  },
  {
   "cell_type": "code",
   "execution_count": 2,
   "id": "e9c282b4-5383-4ba4-a84b-b5ea9739e354",
   "metadata": {},
   "outputs": [],
   "source": [
    "def remove_nonascii(text):\n",
    "    return \"\".join(i for i in text if ord(i)<128)\n",
    "\n",
    "def remove_html(text):\n",
    "    html_pattern = re.compile('<.*?>')\n",
    "    return html_pattern.sub(r'', text)"
   ]
  },
  {
   "cell_type": "markdown",
   "id": "a84535e7-1659-47d3-9b29-de3e4fd412cb",
   "metadata": {},
   "source": [
    "**PAPERS** from ICPSR Bibliography (DBInfo)"
   ]
  },
  {
   "cell_type": "code",
   "execution_count": 3,
   "id": "e7999f88-8538-42cc-84f7-d794181c424f",
   "metadata": {
    "tags": []
   },
   "outputs": [
    {
     "name": "stdout",
     "output_type": "stream",
     "text": [
      "<class 'pandas.core.frame.DataFrame'>\n",
      "Index: 94755 entries, 0 to 99648\n",
      "Data columns (total 11 columns):\n",
      " #   Column       Non-Null Count  Dtype         \n",
      "---  ------       --------------  -----         \n",
      " 0   REF_ID       94755 non-null  int64         \n",
      " 1   DOI          43063 non-null  object        \n",
      " 2   TITLE        94750 non-null  object        \n",
      " 3   AUTHORS      94754 non-null  object        \n",
      " 4   SEC_TITLE    78193 non-null  object        \n",
      " 5   RIS_TYPE     94755 non-null  category      \n",
      " 6   FUNDER       490 non-null    object        \n",
      " 7   YEAR_PUB     94755 non-null  int64         \n",
      " 8   DATE_INPUT   94079 non-null  datetime64[ns]\n",
      " 9   SERIES_NUMS  2338 non-null   object        \n",
      " 10  STUDY_NUMS   94755 non-null  object        \n",
      "dtypes: category(1), datetime64[ns](1), int64(2), object(7)\n",
      "memory usage: 8.0+ MB\n"
     ]
    }
   ],
   "source": [
    "df_paper = pd.read_excel('../data_original/ICPSR_bib_studies_20211111.xlsx', sheet_name=0)\n",
    "\n",
    "df_paper = df_paper[df_paper['STUD_NUMS'].notna()] # remove papers that do not have study numbers\n",
    "\n",
    "df_paper['REF_ID'] = df_paper['REF_ID'].astype('int')\n",
    "df_paper['TITLE'] = df_paper['TITLE'].str.strip() # remove whitespace from original record entry\n",
    "df_paper['AUTHORS'] = df_paper['AUTHORS'].str.strip()\n",
    "df_paper['SEC_TITLE'] = df_paper['SEC_TITLE'].str.strip()\n",
    "df_paper['RIS_TYPE'] = df_paper['RIS_TYPE'].str.strip()\n",
    "df_paper['RIS_TYPE'] = df_paper['RIS_TYPE'].astype('category')\n",
    "df_paper['FUNDER'] = df_paper['FUNDER'].str.strip()\n",
    "df_paper['YEAR_PUB'] = df_paper['YEAR_PUB'].fillna(0).astype('int')\n",
    "df_paper['DATE_INPUT'] = df_paper['DATE_INPUT'].astype('datetime64[ns]')\n",
    "df_paper['STUD_NUMS'] = df_paper['STUD_NUMS'].astype('str')\n",
    "\n",
    "df_paper.loc[df_paper['YEAR_PUB']<1963,'YEAR_PUB'] = 0  # replace publication year for any item published before ICPSR was established\n",
    "\n",
    "df_paper = df_paper.rename(columns={'STUD_NUMS':'STUDY_NUMS'})\n",
    "\n",
    "df_paper = df_paper[['REF_ID',\n",
    "                     'DOI',\n",
    "                     'TITLE',\n",
    "                     'AUTHORS',\n",
    "                     'SEC_TITLE',\n",
    "                     'RIS_TYPE',\n",
    "                     'FUNDER',\n",
    "                     'YEAR_PUB',\n",
    "                     'DATE_INPUT',\n",
    "                     'SERIES_NUMS',\n",
    "                     'STUDY_NUMS']]\n",
    "\n",
    "df_paper.to_csv('../data_transform/ICPSR_PAPERS.csv',index=False)\n",
    "df_paper.info()"
   ]
  },
  {
   "cell_type": "code",
   "execution_count": 4,
   "id": "4a9873d1-0df1-4b88-9ac9-4474d4ebcc95",
   "metadata": {
    "tags": []
   },
   "outputs": [
    {
     "data": {
      "text/html": [
       "<div>\n",
       "<style scoped>\n",
       "    .dataframe tbody tr th:only-of-type {\n",
       "        vertical-align: middle;\n",
       "    }\n",
       "\n",
       "    .dataframe tbody tr th {\n",
       "        vertical-align: top;\n",
       "    }\n",
       "\n",
       "    .dataframe thead th {\n",
       "        text-align: right;\n",
       "    }\n",
       "</style>\n",
       "<table border=\"1\" class=\"dataframe\">\n",
       "  <thead>\n",
       "    <tr style=\"text-align: right;\">\n",
       "      <th></th>\n",
       "      <th>REF_ID</th>\n",
       "      <th>DOI</th>\n",
       "      <th>TITLE</th>\n",
       "      <th>AUTHORS</th>\n",
       "      <th>SEC_TITLE</th>\n",
       "      <th>RIS_TYPE</th>\n",
       "      <th>FUNDER</th>\n",
       "      <th>YEAR_PUB</th>\n",
       "      <th>DATE_INPUT</th>\n",
       "      <th>SERIES_NUMS</th>\n",
       "      <th>STUDY_NUMS</th>\n",
       "    </tr>\n",
       "  </thead>\n",
       "  <tbody>\n",
       "    <tr>\n",
       "      <th>5161</th>\n",
       "      <td>5790</td>\n",
       "      <td>NaN</td>\n",
       "      <td>Dimensions of environmental policy support in ...</td>\n",
       "      <td>Carman, Christopher Jan</td>\n",
       "      <td>Social Science Quarterly</td>\n",
       "      <td>JOUR</td>\n",
       "      <td>NaN</td>\n",
       "      <td>1998</td>\n",
       "      <td>2001-06-06 00:00:00</td>\n",
       "      <td>NaN</td>\n",
       "      <td>06636</td>\n",
       "    </tr>\n",
       "    <tr>\n",
       "      <th>61443</th>\n",
       "      <td>114276</td>\n",
       "      <td>10.1111/jomf.12079</td>\n",
       "      <td>Variation in associations between family dinne...</td>\n",
       "      <td>Meier, Ann; Musick, Kelly</td>\n",
       "      <td>Journal of Marriage and Family</td>\n",
       "      <td>JOUR</td>\n",
       "      <td>NaN</td>\n",
       "      <td>2014</td>\n",
       "      <td>2014-02-10 00:00:00</td>\n",
       "      <td>NaN</td>\n",
       "      <td>21600</td>\n",
       "    </tr>\n",
       "    <tr>\n",
       "      <th>82955</th>\n",
       "      <td>140990</td>\n",
       "      <td>10.1007/s10566-018-9483-9</td>\n",
       "      <td>Racial and ethnic differences in teenage fathe...</td>\n",
       "      <td>Assini-Meytin, Luciana C.; Garza, Mary A.; Gre...</td>\n",
       "      <td>Child and Youth Care Forum</td>\n",
       "      <td>JOUR</td>\n",
       "      <td>NaN</td>\n",
       "      <td>2019</td>\n",
       "      <td>2019-08-19 09:46:01</td>\n",
       "      <td>NaN</td>\n",
       "      <td>21600</td>\n",
       "    </tr>\n",
       "    <tr>\n",
       "      <th>34516</th>\n",
       "      <td>43703</td>\n",
       "      <td>NaN</td>\n",
       "      <td>An evaluation of instrumental variable strateg...</td>\n",
       "      <td>Altonji, Joseph G.; Elder, Todd E.; Taber, Chr...</td>\n",
       "      <td>Journal of Human Resources</td>\n",
       "      <td>JOUR</td>\n",
       "      <td>NaN</td>\n",
       "      <td>2005</td>\n",
       "      <td>2006-07-31 00:00:00</td>\n",
       "      <td>NaN</td>\n",
       "      <td>8085; 9389</td>\n",
       "    </tr>\n",
       "    <tr>\n",
       "      <th>12335</th>\n",
       "      <td>14093</td>\n",
       "      <td>NaN</td>\n",
       "      <td>The Media's Role in Forming Voters' National E...</td>\n",
       "      <td>Hetherington, Marc J.</td>\n",
       "      <td>American Journal of Political Science</td>\n",
       "      <td>JOUR</td>\n",
       "      <td>NaN</td>\n",
       "      <td>1996</td>\n",
       "      <td>2001-04-25 00:00:00</td>\n",
       "      <td>NaN</td>\n",
       "      <td>8298; 9196; 6067</td>\n",
       "    </tr>\n",
       "  </tbody>\n",
       "</table>\n",
       "</div>"
      ],
      "text/plain": [
       "       REF_ID                        DOI   \n",
       "5161     5790                        NaN  \\\n",
       "61443  114276         10.1111/jomf.12079   \n",
       "82955  140990  10.1007/s10566-018-9483-9   \n",
       "34516   43703                        NaN   \n",
       "12335   14093                        NaN   \n",
       "\n",
       "                                                   TITLE   \n",
       "5161   Dimensions of environmental policy support in ...  \\\n",
       "61443  Variation in associations between family dinne...   \n",
       "82955  Racial and ethnic differences in teenage fathe...   \n",
       "34516  An evaluation of instrumental variable strateg...   \n",
       "12335  The Media's Role in Forming Voters' National E...   \n",
       "\n",
       "                                                 AUTHORS   \n",
       "5161                             Carman, Christopher Jan  \\\n",
       "61443                          Meier, Ann; Musick, Kelly   \n",
       "82955  Assini-Meytin, Luciana C.; Garza, Mary A.; Gre...   \n",
       "34516  Altonji, Joseph G.; Elder, Todd E.; Taber, Chr...   \n",
       "12335                              Hetherington, Marc J.   \n",
       "\n",
       "                                   SEC_TITLE RIS_TYPE FUNDER  YEAR_PUB   \n",
       "5161                Social Science Quarterly     JOUR    NaN      1998  \\\n",
       "61443         Journal of Marriage and Family     JOUR    NaN      2014   \n",
       "82955             Child and Youth Care Forum     JOUR    NaN      2019   \n",
       "34516             Journal of Human Resources     JOUR    NaN      2005   \n",
       "12335  American Journal of Political Science     JOUR    NaN      1996   \n",
       "\n",
       "               DATE_INPUT SERIES_NUMS        STUDY_NUMS  \n",
       "5161  2001-06-06 00:00:00         NaN             06636  \n",
       "61443 2014-02-10 00:00:00         NaN             21600  \n",
       "82955 2019-08-19 09:46:01         NaN             21600  \n",
       "34516 2006-07-31 00:00:00         NaN        8085; 9389  \n",
       "12335 2001-04-25 00:00:00         NaN  8298; 9196; 6067  "
      ]
     },
     "execution_count": 4,
     "metadata": {},
     "output_type": "execute_result"
    }
   ],
   "source": [
    "df_paper.sample(5)"
   ]
  },
  {
   "cell_type": "markdown",
   "id": "638caa56-5d7d-4b2c-9e67-47b274f11893",
   "metadata": {},
   "source": [
    "**STUDIES** from ICPSR catalog (DBInfo)"
   ]
  },
  {
   "cell_type": "code",
   "execution_count": 5,
   "id": "428f50ec-ee00-4527-82a0-039c60c9052e",
   "metadata": {
    "tags": []
   },
   "outputs": [
    {
     "name": "stdout",
     "output_type": "stream",
     "text": [
      "<class 'pandas.core.frame.DataFrame'>\n",
      "Index: 10610 entries, 0 to 11660\n",
      "Data columns (total 12 columns):\n",
      " #   Column          Non-Null Count  Dtype         \n",
      "---  ------          --------------  -----         \n",
      " 0   STUDY           10610 non-null  int64         \n",
      " 1   NAME            10610 non-null  object        \n",
      " 2   SERIES          6683 non-null   float64       \n",
      " 3   SERIES_TITLE    6683 non-null   object        \n",
      " 4   OWNER           10610 non-null  category      \n",
      " 5   FUNDING_AGENCY  5256 non-null   object        \n",
      " 6   DOI             10610 non-null  object        \n",
      " 7   GEO             9956 non-null   object        \n",
      " 8   TERMS           10155 non-null  object        \n",
      " 9   RELEASE_DATE    10610 non-null  datetime64[ns]\n",
      " 10  PRINCIPAL_INV   10610 non-null  object        \n",
      " 11  DESCRIPTION     10610 non-null  object        \n",
      "dtypes: category(1), datetime64[ns](1), float64(1), int64(1), object(8)\n",
      "memory usage: 1005.8+ KB\n"
     ]
    }
   ],
   "source": [
    "df_study = pd.read_excel('../data_original/ICPSR_bib_studies_20211111.xlsx', sheet_name=1)\n",
    "df_study = df_study[df_study['PERMIT']=='AVAILABLE'] # remove studies that are not publicly available\n",
    "df_study = df_study[df_study['OBJECTTYPE']=='study'] # remove union catalog entries\n",
    "\n",
    "df_study['DESCRIPTION'] = df_study['DESCRIPTION_1'].astype('str') \\\n",
    "    + \" \" + df_study['DESCRIPTION_2'].astype('str') \\\n",
    "    + \" \" + df_study['DESCRIPTION_3'].astype('str') + \" \" \\\n",
    "    + df_study['DESCRIPTION_4'].astype('str') \\\n",
    "    + \" \" + df_study['DESCRIPTION_5'].astype('str') # combine study description to a single field\n",
    "\n",
    "df_study = df_study.drop(columns=['PERMIT',\n",
    "                                  'OBJECTTYPE',\n",
    "                                  'ALTTITLE1',\n",
    "                                  'ALTTITLE2',\n",
    "                                  'ALTTITLE3',\n",
    "                                  'ALTTITLE4',\n",
    "                                  'ALTTITLE5',\n",
    "                                  'ALTTITLE6',\n",
    "                                  'ALTTITLE7',\n",
    "                                  'DESCRIPTION_1',\n",
    "                                  'DESCRIPTION_2',\n",
    "                                  'DESCRIPTION_3',\n",
    "                                  'DESCRIPTION_4',\n",
    "                                  'DESCRIPTION_5'])\n",
    "\n",
    "df_study['STUDY'] = df_study['STUDY'].astype('int')\n",
    "df_study['NAME'] = df_study['NAME'].str.strip()\n",
    "df_study['SERIES'] = df_study['SERIES'].astype('str').astype('float')\n",
    "df_study['SERIES_TITLE'] = df_study['SERIES_TITLE'].str.strip()\n",
    "df_study['OWNER'] = df_study['OWNER'].astype('category')\n",
    "df_study['FUNDINGAGENCY'] = df_study['FUNDINGAGENCY'].str.strip()\n",
    "df_study['DOI'] = df_study['DOI'].str.strip()\n",
    "df_study['GEO'] = df_study['GEO'].str.strip()\n",
    "df_study['TERMS'] = df_study['TERMS'].str.strip()\n",
    "df_study['ORIGRELDATE'] = df_study['ORIGRELDATE'].fillna(0).astype('datetime64[ns]')\n",
    "df_study['MEMSERV_PI'] = df_study['MEMSERV_PI'].str.strip()\n",
    "df_study['DESCRIPTION'] = df_study['DESCRIPTION'].str.strip().astype('str')\n",
    "\n",
    "df_study['DESCRIPTION'] = df_study['DESCRIPTION'].apply(func=remove_nonascii) # remove nonascii\n",
    "df_study['DESCRIPTION'] = df_study['DESCRIPTION'].apply(func=remove_html) # remove html tags\n",
    "df_study['DESCRIPTION'] = df_study['DESCRIPTION'].replace(regex=[\"nan\"], value=\"\") # remove string \"nan\"\n",
    "\n",
    "df_study = df_study.rename(columns={'FUNDINGAGENCY':'FUNDING_AGENCY','ORIGRELDATE':'RELEASE_DATE','MEMSERV_PI':'PRINCIPAL_INV'})\n",
    "df_study.info()"
   ]
  },
  {
   "cell_type": "markdown",
   "id": "97203326-5b24-4e78-a27f-c397f4a4c981",
   "metadata": {},
   "source": [
    "Study table: usage"
   ]
  },
  {
   "cell_type": "code",
   "execution_count": 6,
   "id": "804e98c1-3478-451e-9680-500b54d3d1ed",
   "metadata": {
    "tags": []
   },
   "outputs": [
    {
     "name": "stdout",
     "output_type": "stream",
     "text": [
      "<class 'pandas.core.frame.DataFrame'>\n",
      "RangeIndex: 461 entries, 0 to 460\n",
      "Data columns (total 11 columns):\n",
      " #   Column                 Non-Null Count  Dtype  \n",
      "---  ------                 --------------  -----  \n",
      " 0   STUDY                  461 non-null    int64  \n",
      " 1   SINGLE_PI              461 non-null    int64  \n",
      " 2   INST_PI                461 non-null    int64  \n",
      " 3   TOT_PI                 461 non-null    int64  \n",
      " 4   SDA                    461 non-null    int64  \n",
      " 5   QTEXT                  453 non-null    float64\n",
      " 6   SSVD                   453 non-null    float64\n",
      " 7   USERS_TO_20210511      457 non-null    float64\n",
      " 8   DATAUSERS_TO_20210511  455 non-null    float64\n",
      " 9   HAS_RESTRICTED         461 non-null    int64  \n",
      " 10  ALL_RESTRICTED         461 non-null    int64  \n",
      "dtypes: float64(4), int64(7)\n",
      "memory usage: 39.7 KB\n"
     ]
    }
   ],
   "source": [
    "df_usage = pd.read_excel('../data_original/ICPSR_combined_study_usage_20210430_onlyData_noAllREST.xlsx',sheet_name=0)\n",
    "df_usage = df_usage.drop(columns=['DATA_PULL_DATE','ORIGRELDATE','OWNER','OWNER_ICPSR','MEMBER','DAYSINSAMPLE_TO20210430','DAYSINSAMPLE_TO20151231','RECENCY','SERIESYN','VARS','SAMPLING','PROPORTIONREST','TOT_DATA', 'NUMTERMS'])\n",
    "\n",
    "df_usage['STUDY'] = df_usage['STUDY'].astype('int')\n",
    "df_usage['SINGLEPI'] = df_usage['SINGLEPI'].astype('int')\n",
    "df_usage['INST_PI'] = df_usage['INST_PI'].astype('int')\n",
    "df_usage['TOT_PI'] = df_usage['TOT_PI'].astype('int')\n",
    "df_usage['SDA'] = df_usage['SDA'].astype('int')\n",
    "df_usage['QTEXT'] = df_usage['QTEXT'].astype('float')\n",
    "df_usage['SSVD'] = df_usage['SSVD'].astype('float')\n",
    "df_usage['USERS_2017_TO_PULLDATE'] = df_usage['USERS_2017_TO_PULLDATE'].astype('float')\n",
    "df_usage['DATAUSERS_2017_TO_PULLDATE'] = df_usage['DATAUSERS_2017_TO_PULLDATE'].astype('float')\n",
    "df_usage['HAS_RESTRICTED'] = df_usage['HAS_RESTRICTED'].astype('int')\n",
    "df_usage['ALL_RESTRICTED'] = df_usage['ALL_RESTRICTED'].astype('int')\n",
    "\n",
    "df_usage = df_usage.rename(columns={'USERS_2017_TO_PULLDATE':'USERS_TO_20210511','DATAUSERS_2017_TO_PULLDATE':'DATAUSERS_TO_20210511','SINGLEPI':'SINGLE_PI'})\n",
    "df_usage.info()"
   ]
  },
  {
   "cell_type": "markdown",
   "id": "458fa747-262f-4ef3-aa14-a6ffdc604f8d",
   "metadata": {},
   "source": [
    "Study table: curation level"
   ]
  },
  {
   "cell_type": "code",
   "execution_count": 7,
   "id": "ee62d80e-e0bb-4c98-9740-fce53facc6d0",
   "metadata": {
    "tags": []
   },
   "outputs": [
    {
     "name": "stdout",
     "output_type": "stream",
     "text": [
      "<class 'pandas.core.frame.DataFrame'>\n",
      "RangeIndex: 1367 entries, 0 to 1366\n",
      "Data columns (total 2 columns):\n",
      " #   Column          Non-Null Count  Dtype   \n",
      "---  ------          --------------  -----   \n",
      " 0   STUDY           1367 non-null   int64   \n",
      " 1   CURATION_LEVEL  1367 non-null   category\n",
      "dtypes: category(1), int64(1)\n",
      "memory usage: 12.4 KB\n"
     ]
    }
   ],
   "source": [
    "df_curation = pd.read_csv('../data_original/jira_curation_level_20210426_by_study.csv')\n",
    "df_curation = df_curation.drop(columns=['cur_lev_rank'])\n",
    "df_curation['study'] = df_curation['study'].astype('int')\n",
    "df_curation['curation_level'] = df_curation['curation_level'].astype('category')\n",
    "df_curation = df_curation.rename(columns={'study':'STUDY','curation_level':'CURATION_LEVEL'})\n",
    "df_curation.info()"
   ]
  },
  {
   "cell_type": "markdown",
   "id": "93b8c8f8-c24c-4049-ae67-af08ce178788",
   "metadata": {},
   "source": [
    "Study table: citations (count number of study citations from Bibliography)"
   ]
  },
  {
   "cell_type": "code",
   "execution_count": 8,
   "id": "77ed27f7-c54c-443e-84a7-cf2f44ca9253",
   "metadata": {
    "tags": []
   },
   "outputs": [
    {
     "name": "stdout",
     "output_type": "stream",
     "text": [
      "<class 'pandas.core.frame.DataFrame'>\n",
      "RangeIndex: 8377 entries, 0 to 8376\n",
      "Data columns (total 2 columns):\n",
      " #   Column                 Non-Null Count  Dtype\n",
      "---  ------                 --------------  -----\n",
      " 0   STUDY                  8377 non-null   int64\n",
      " 1   CITATIONS_TO_20211116  8377 non-null   int64\n",
      "dtypes: int64(2)\n",
      "memory usage: 131.0 KB\n"
     ]
    }
   ],
   "source": [
    "df_paper['STUDY'] = df_paper['STUDY_NUMS'].str.split(\";\") # split STUD_NUMS so that each row is one study\n",
    "df_paper = df_paper.explode('STUDY')\n",
    "df_paper['STUDY'] = df_paper['STUDY'].astype('int')\n",
    "\n",
    "df_citations = pd.DataFrame(df_paper['STUDY'].value_counts()).reset_index()\n",
    "df_citations = df_citations.rename(columns={'count':'CITATIONS_TO_20211116'})\n",
    "df_citations.info()"
   ]
  },
  {
   "cell_type": "markdown",
   "id": "04922181-8bc8-4973-921b-ccad4406e081",
   "metadata": {},
   "source": [
    "Study table: variable counts"
   ]
  },
  {
   "cell_type": "code",
   "execution_count": 9,
   "id": "60388318-2353-408f-bcf7-5469cba25df9",
   "metadata": {
    "tags": []
   },
   "outputs": [
    {
     "name": "stdout",
     "output_type": "stream",
     "text": [
      "<class 'pandas.core.frame.DataFrame'>\n",
      "RangeIndex: 9485 entries, 0 to 9484\n",
      "Data columns (total 2 columns):\n",
      " #   Column      Non-Null Count  Dtype\n",
      "---  ------      --------------  -----\n",
      " 0   STUDY       9485 non-null   int64\n",
      " 1   TOTAL_VARS  9485 non-null   int64\n",
      "dtypes: int64(2)\n",
      "memory usage: 148.3 KB\n"
     ]
    }
   ],
   "source": [
    "df_variables = pd.read_csv('../data_original/variable_counts_by_study.csv')\n",
    "df_variables['STUDY'] = df_variables['STUDY'].astype('int')\n",
    "df_variables['TOTALVARS'] = df_variables['TOTALVARS'].astype('int')\n",
    "df_variables = df_variables.rename(columns={'TOTALVARS':'TOTAL_VARS'})\n",
    "df_variables.info()"
   ]
  },
  {
   "cell_type": "markdown",
   "id": "ecc00ace-15c7-4b24-a7f5-f11a15b5caad",
   "metadata": {},
   "source": [
    "Merge STUDY tables"
   ]
  },
  {
   "cell_type": "code",
   "execution_count": 10,
   "id": "bd72ad2e-c1e7-461e-963d-2c984428490b",
   "metadata": {
    "tags": []
   },
   "outputs": [
    {
     "name": "stdout",
     "output_type": "stream",
     "text": [
      "<class 'pandas.core.frame.DataFrame'>\n",
      "RangeIndex: 10610 entries, 0 to 10609\n",
      "Data columns (total 25 columns):\n",
      " #   Column                 Non-Null Count  Dtype         \n",
      "---  ------                 --------------  -----         \n",
      " 0   STUDY                  10610 non-null  int64         \n",
      " 1   DOI                    10610 non-null  object        \n",
      " 2   NAME                   10610 non-null  object        \n",
      " 3   SERIES                 6683 non-null   float64       \n",
      " 4   SERIES_TITLE           6683 non-null   object        \n",
      " 5   PRINCIPAL_INV          10610 non-null  object        \n",
      " 6   DESCRIPTION            10610 non-null  object        \n",
      " 7   RELEASE_DATE           10610 non-null  datetime64[ns]\n",
      " 8   FUNDING_AGENCY         5256 non-null   object        \n",
      " 9   GEO                    9956 non-null   object        \n",
      " 10  TERMS                  10155 non-null  object        \n",
      " 11  OWNER                  10610 non-null  category      \n",
      " 12  CURATION_LEVEL         1125 non-null   category      \n",
      " 13  SINGLE_PI              421 non-null    float64       \n",
      " 14  INST_PI                421 non-null    float64       \n",
      " 15  TOT_PI                 421 non-null    float64       \n",
      " 16  TOTAL_VARS             9283 non-null   float64       \n",
      " 17  SDA                    421 non-null    float64       \n",
      " 18  QTEXT                  413 non-null    float64       \n",
      " 19  SSVD                   413 non-null    float64       \n",
      " 20  HAS_RESTRICTED         421 non-null    float64       \n",
      " 21  ALL_RESTRICTED         421 non-null    float64       \n",
      " 22  USERS_TO_20210511      417 non-null    float64       \n",
      " 23  DATAUSERS_TO_20210511  416 non-null    float64       \n",
      " 24  CITATIONS_TO_20211116  8030 non-null   float64       \n",
      "dtypes: category(2), datetime64[ns](1), float64(13), int64(1), object(8)\n",
      "memory usage: 1.9+ MB\n"
     ]
    }
   ],
   "source": [
    "df_study_merge = df_study.merge(df_usage, on='STUDY', how='left') \\\n",
    "    .merge(df_curation, on='STUDY', how='left') \\\n",
    "    .merge(df_citations, on='STUDY', how='left') \\\n",
    "    .merge(df_variables, on='STUDY', how='left') # merge all tables on main list of studies\n",
    "\n",
    "df_study_merge = df_study_merge[['STUDY', \n",
    "                               'DOI',\n",
    "                               'NAME',\n",
    "                               'SERIES',\n",
    "                               'SERIES_TITLE',\n",
    "                               'PRINCIPAL_INV',\n",
    "                               'DESCRIPTION',\n",
    "                               'RELEASE_DATE',\n",
    "                               'FUNDING_AGENCY',\n",
    "                               'GEO',\n",
    "                               'TERMS',\n",
    "                               'OWNER',\n",
    "                               'CURATION_LEVEL',\n",
    "                               'SINGLE_PI',\n",
    "                               'INST_PI',\n",
    "                               'TOT_PI',\n",
    "                               'TOTAL_VARS',\n",
    "                               'SDA',\n",
    "                               'QTEXT',\n",
    "                               'SSVD',\n",
    "                               'HAS_RESTRICTED',\n",
    "                               'ALL_RESTRICTED',\n",
    "                               'USERS_TO_20210511',\n",
    "                               'DATAUSERS_TO_20210511',\n",
    "                               'CITATIONS_TO_20211116']]\n",
    "\n",
    "df_study_merge.to_csv('../data_transform/ICPSR_STUDIES.csv',index=False)\n",
    "df_study_merge.info()"
   ]
  },
  {
   "cell_type": "code",
   "execution_count": 11,
   "id": "a0937318-db6a-4ca9-ac35-52282d904816",
   "metadata": {
    "tags": []
   },
   "outputs": [
    {
     "data": {
      "text/html": [
       "<div>\n",
       "<style scoped>\n",
       "    .dataframe tbody tr th:only-of-type {\n",
       "        vertical-align: middle;\n",
       "    }\n",
       "\n",
       "    .dataframe tbody tr th {\n",
       "        vertical-align: top;\n",
       "    }\n",
       "\n",
       "    .dataframe thead th {\n",
       "        text-align: right;\n",
       "    }\n",
       "</style>\n",
       "<table border=\"1\" class=\"dataframe\">\n",
       "  <thead>\n",
       "    <tr style=\"text-align: right;\">\n",
       "      <th></th>\n",
       "      <th>STUDY</th>\n",
       "      <th>DOI</th>\n",
       "      <th>NAME</th>\n",
       "      <th>SERIES</th>\n",
       "      <th>SERIES_TITLE</th>\n",
       "      <th>PRINCIPAL_INV</th>\n",
       "      <th>DESCRIPTION</th>\n",
       "      <th>RELEASE_DATE</th>\n",
       "      <th>FUNDING_AGENCY</th>\n",
       "      <th>GEO</th>\n",
       "      <th>...</th>\n",
       "      <th>TOT_PI</th>\n",
       "      <th>TOTAL_VARS</th>\n",
       "      <th>SDA</th>\n",
       "      <th>QTEXT</th>\n",
       "      <th>SSVD</th>\n",
       "      <th>HAS_RESTRICTED</th>\n",
       "      <th>ALL_RESTRICTED</th>\n",
       "      <th>USERS_TO_20210511</th>\n",
       "      <th>DATAUSERS_TO_20210511</th>\n",
       "      <th>CITATIONS_TO_20211116</th>\n",
       "    </tr>\n",
       "  </thead>\n",
       "  <tbody>\n",
       "    <tr>\n",
       "      <th>9329</th>\n",
       "      <td>36356</td>\n",
       "      <td>10.3886/ICPSR36356.v1</td>\n",
       "      <td>Bridging the Gap, Elementary School Data (Food...</td>\n",
       "      <td>NaN</td>\n",
       "      <td>NaN</td>\n",
       "      <td>Chaloupka, Frank J.</td>\n",
       "      <td>The Food and Fitness Survey is part of the lar...</td>\n",
       "      <td>2018-01-15 11:53:56</td>\n",
       "      <td>Robert Wood Johnson Foundation</td>\n",
       "      <td>United States</td>\n",
       "      <td>...</td>\n",
       "      <td>1.0</td>\n",
       "      <td>7681.0</td>\n",
       "      <td>1.0</td>\n",
       "      <td>0.0</td>\n",
       "      <td>1.0</td>\n",
       "      <td>1.0</td>\n",
       "      <td>0.0</td>\n",
       "      <td>221.0</td>\n",
       "      <td>162.0</td>\n",
       "      <td>18.0</td>\n",
       "    </tr>\n",
       "    <tr>\n",
       "      <th>975</th>\n",
       "      <td>2711</td>\n",
       "      <td>10.3886/ICPSR02711.v1</td>\n",
       "      <td>Washington Post 'What Clinton Should Do' Poll,...</td>\n",
       "      <td>1.0</td>\n",
       "      <td>ABC News/Washington Post Poll Series</td>\n",
       "      <td>THE WASHINGTON POST.</td>\n",
       "      <td>This special topic poll, fielded December 15, ...</td>\n",
       "      <td>1999-06-23 00:00:00</td>\n",
       "      <td>NaN</td>\n",
       "      <td>United States</td>\n",
       "      <td>...</td>\n",
       "      <td>NaN</td>\n",
       "      <td>65.0</td>\n",
       "      <td>NaN</td>\n",
       "      <td>NaN</td>\n",
       "      <td>NaN</td>\n",
       "      <td>NaN</td>\n",
       "      <td>NaN</td>\n",
       "      <td>NaN</td>\n",
       "      <td>NaN</td>\n",
       "      <td>NaN</td>\n",
       "    </tr>\n",
       "    <tr>\n",
       "      <th>579</th>\n",
       "      <td>2238</td>\n",
       "      <td>10.3886/ICPSR02238.v1</td>\n",
       "      <td>Elementary and Secondary General Information S...</td>\n",
       "      <td>101.0</td>\n",
       "      <td>Elementary &amp; Secondary Education General Infor...</td>\n",
       "      <td>United States Department of Education.  Nation...</td>\n",
       "      <td>This dataset contains records for each public ...</td>\n",
       "      <td>2000-08-28 00:00:00</td>\n",
       "      <td>NaN</td>\n",
       "      <td>American Samoa; Guam; Marshall Islands; Puerto...</td>\n",
       "      <td>...</td>\n",
       "      <td>NaN</td>\n",
       "      <td>111.0</td>\n",
       "      <td>NaN</td>\n",
       "      <td>NaN</td>\n",
       "      <td>NaN</td>\n",
       "      <td>NaN</td>\n",
       "      <td>NaN</td>\n",
       "      <td>NaN</td>\n",
       "      <td>NaN</td>\n",
       "      <td>NaN</td>\n",
       "    </tr>\n",
       "    <tr>\n",
       "      <th>2902</th>\n",
       "      <td>6023</td>\n",
       "      <td>10.3886/ICPSR06023.v1</td>\n",
       "      <td>ABC News Vice-Presidential Debate Poll, Octobe...</td>\n",
       "      <td>1.0</td>\n",
       "      <td>ABC News/Washington Post Poll Series</td>\n",
       "      <td>ABC News</td>\n",
       "      <td>In this poll, taken after the vice-presidentia...</td>\n",
       "      <td>1993-10-11 00:00:00</td>\n",
       "      <td>NaN</td>\n",
       "      <td>United States</td>\n",
       "      <td>...</td>\n",
       "      <td>NaN</td>\n",
       "      <td>17.0</td>\n",
       "      <td>NaN</td>\n",
       "      <td>NaN</td>\n",
       "      <td>NaN</td>\n",
       "      <td>NaN</td>\n",
       "      <td>NaN</td>\n",
       "      <td>NaN</td>\n",
       "      <td>NaN</td>\n",
       "      <td>NaN</td>\n",
       "    </tr>\n",
       "    <tr>\n",
       "      <th>1786</th>\n",
       "      <td>3606</td>\n",
       "      <td>10.3886/ICPSR03606.v1</td>\n",
       "      <td>Survey of Consumer Finances, 1949</td>\n",
       "      <td>55.0</td>\n",
       "      <td>Survey of Consumer Finances Series</td>\n",
       "      <td>Economic Behavior Program.  Survey Research Ce...</td>\n",
       "      <td>This data collection is one in a series of fic...</td>\n",
       "      <td>1984-05-11 00:00:00</td>\n",
       "      <td>National Science Foundation</td>\n",
       "      <td>United States</td>\n",
       "      <td>...</td>\n",
       "      <td>NaN</td>\n",
       "      <td>-2.0</td>\n",
       "      <td>NaN</td>\n",
       "      <td>NaN</td>\n",
       "      <td>NaN</td>\n",
       "      <td>NaN</td>\n",
       "      <td>NaN</td>\n",
       "      <td>NaN</td>\n",
       "      <td>NaN</td>\n",
       "      <td>1.0</td>\n",
       "    </tr>\n",
       "  </tbody>\n",
       "</table>\n",
       "<p>5 rows × 25 columns</p>\n",
       "</div>"
      ],
      "text/plain": [
       "      STUDY                    DOI   \n",
       "9329  36356  10.3886/ICPSR36356.v1  \\\n",
       "975    2711  10.3886/ICPSR02711.v1   \n",
       "579    2238  10.3886/ICPSR02238.v1   \n",
       "2902   6023  10.3886/ICPSR06023.v1   \n",
       "1786   3606  10.3886/ICPSR03606.v1   \n",
       "\n",
       "                                                   NAME  SERIES   \n",
       "9329  Bridging the Gap, Elementary School Data (Food...     NaN  \\\n",
       "975   Washington Post 'What Clinton Should Do' Poll,...     1.0   \n",
       "579   Elementary and Secondary General Information S...   101.0   \n",
       "2902  ABC News Vice-Presidential Debate Poll, Octobe...     1.0   \n",
       "1786                  Survey of Consumer Finances, 1949    55.0   \n",
       "\n",
       "                                           SERIES_TITLE   \n",
       "9329                                                NaN  \\\n",
       "975                ABC News/Washington Post Poll Series   \n",
       "579   Elementary & Secondary Education General Infor...   \n",
       "2902               ABC News/Washington Post Poll Series   \n",
       "1786                 Survey of Consumer Finances Series   \n",
       "\n",
       "                                          PRINCIPAL_INV   \n",
       "9329                                Chaloupka, Frank J.  \\\n",
       "975                                THE WASHINGTON POST.   \n",
       "579   United States Department of Education.  Nation...   \n",
       "2902                                           ABC News   \n",
       "1786  Economic Behavior Program.  Survey Research Ce...   \n",
       "\n",
       "                                            DESCRIPTION        RELEASE_DATE   \n",
       "9329  The Food and Fitness Survey is part of the lar... 2018-01-15 11:53:56  \\\n",
       "975   This special topic poll, fielded December 15, ... 1999-06-23 00:00:00   \n",
       "579   This dataset contains records for each public ... 2000-08-28 00:00:00   \n",
       "2902  In this poll, taken after the vice-presidentia... 1993-10-11 00:00:00   \n",
       "1786  This data collection is one in a series of fic... 1984-05-11 00:00:00   \n",
       "\n",
       "                      FUNDING_AGENCY   \n",
       "9329  Robert Wood Johnson Foundation  \\\n",
       "975                              NaN   \n",
       "579                              NaN   \n",
       "2902                             NaN   \n",
       "1786     National Science Foundation   \n",
       "\n",
       "                                                    GEO  ... TOT_PI   \n",
       "9329                                      United States  ...    1.0  \\\n",
       "975                                       United States  ...    NaN   \n",
       "579   American Samoa; Guam; Marshall Islands; Puerto...  ...    NaN   \n",
       "2902                                      United States  ...    NaN   \n",
       "1786                                      United States  ...    NaN   \n",
       "\n",
       "     TOTAL_VARS  SDA  QTEXT  SSVD  HAS_RESTRICTED  ALL_RESTRICTED   \n",
       "9329     7681.0  1.0    0.0   1.0             1.0             0.0  \\\n",
       "975        65.0  NaN    NaN   NaN             NaN             NaN   \n",
       "579       111.0  NaN    NaN   NaN             NaN             NaN   \n",
       "2902       17.0  NaN    NaN   NaN             NaN             NaN   \n",
       "1786       -2.0  NaN    NaN   NaN             NaN             NaN   \n",
       "\n",
       "      USERS_TO_20210511  DATAUSERS_TO_20210511  CITATIONS_TO_20211116  \n",
       "9329              221.0                  162.0                   18.0  \n",
       "975                 NaN                    NaN                    NaN  \n",
       "579                 NaN                    NaN                    NaN  \n",
       "2902                NaN                    NaN                    NaN  \n",
       "1786                NaN                    NaN                    1.0  \n",
       "\n",
       "[5 rows x 25 columns]"
      ]
     },
     "execution_count": 11,
     "metadata": {},
     "output_type": "execute_result"
    }
   ],
   "source": [
    "df_study_merge.sample(5)"
   ]
  },
  {
   "cell_type": "markdown",
   "id": "1bb03e88-dc45-44ed-a628-298c58994559",
   "metadata": {},
   "source": [
    "**PREDICTED CURATION ACTIVITIES** from Jira work logs"
   ]
  },
  {
   "cell_type": "code",
   "execution_count": 12,
   "id": "869cf0ff-9134-4572-b53c-e6956fb1c7ce",
   "metadata": {
    "tags": []
   },
   "outputs": [
    {
     "name": "stdout",
     "output_type": "stream",
     "text": [
      "<class 'pandas.core.frame.DataFrame'>\n",
      "RangeIndex: 13425 entries, 0 to 13424\n",
      "Data columns (total 4 columns):\n",
      " #   Column        Non-Null Count  Dtype   \n",
      "---  ------        --------------  -----   \n",
      " 0   STUDY         13425 non-null  int64   \n",
      " 1   ACTION_LABEL  13425 non-null  category\n",
      " 2   LOG_HRS       12216 non-null  float64 \n",
      " 3   STUDY_HRS     13425 non-null  float64 \n",
      "dtypes: category(1), float64(2), int64(1)\n",
      "memory usage: 328.2 KB\n"
     ]
    }
   ],
   "source": [
    "df_action = pd.read_csv('../data_original/predicted_curation_by_study.csv')\n",
    "df_action = df_action.drop(columns=['Unnamed: 0','Desc']) # remove sentence index and work descriptions (identifiable)\n",
    "df_action = df_action.rename(columns={'Studies':'STUDY','Action':'ACTION_LABEL','Log_hrs':'LOG_HRS','Study_hrs':'STUDY_HRS'})\n",
    "df_action['STUDY'] = df_action['STUDY'].str.replace(\"s\",\"\") # remove \"s\" from study number\n",
    "df_action['STUDY'] = df_action['STUDY'].str.strip()\n",
    "df_action['STUDY'] = df_action['STUDY'].astype('int')\n",
    "df_action['ACTION_LABEL'] = df_action['ACTION_LABEL'].str.strip()\n",
    "df_action['ACTION_LABEL'] = df_action['ACTION_LABEL'].astype('category')\n",
    "df_action.to_csv('../data_transform/ICPSR_CURATION_LOGS.csv',index=False)\n",
    "df_action.info()"
   ]
  },
  {
   "cell_type": "code",
   "execution_count": 13,
   "id": "b20e5dc5-3588-4be6-bd01-daca9bf47233",
   "metadata": {
    "tags": []
   },
   "outputs": [
    {
     "data": {
      "text/html": [
       "<div>\n",
       "<style scoped>\n",
       "    .dataframe tbody tr th:only-of-type {\n",
       "        vertical-align: middle;\n",
       "    }\n",
       "\n",
       "    .dataframe tbody tr th {\n",
       "        vertical-align: top;\n",
       "    }\n",
       "\n",
       "    .dataframe thead th {\n",
       "        text-align: right;\n",
       "    }\n",
       "</style>\n",
       "<table border=\"1\" class=\"dataframe\">\n",
       "  <thead>\n",
       "    <tr style=\"text-align: right;\">\n",
       "      <th></th>\n",
       "      <th>STUDY</th>\n",
       "      <th>ACTION_LABEL</th>\n",
       "      <th>LOG_HRS</th>\n",
       "      <th>STUDY_HRS</th>\n",
       "    </tr>\n",
       "  </thead>\n",
       "  <tbody>\n",
       "    <tr>\n",
       "      <th>0</th>\n",
       "      <td>37216</td>\n",
       "      <td>Metadata-study-level</td>\n",
       "      <td>6.5</td>\n",
       "      <td>712.5</td>\n",
       "    </tr>\n",
       "    <tr>\n",
       "      <th>1</th>\n",
       "      <td>37216</td>\n",
       "      <td>Quality-checks</td>\n",
       "      <td>1.0</td>\n",
       "      <td>712.5</td>\n",
       "    </tr>\n",
       "    <tr>\n",
       "      <th>2</th>\n",
       "      <td>37216</td>\n",
       "      <td>Quality-checks</td>\n",
       "      <td>8.0</td>\n",
       "      <td>712.5</td>\n",
       "    </tr>\n",
       "    <tr>\n",
       "      <th>3</th>\n",
       "      <td>37216</td>\n",
       "      <td>Metadata-study-level</td>\n",
       "      <td>4.0</td>\n",
       "      <td>712.5</td>\n",
       "    </tr>\n",
       "    <tr>\n",
       "      <th>4</th>\n",
       "      <td>37216</td>\n",
       "      <td>Non-curation</td>\n",
       "      <td>7.0</td>\n",
       "      <td>712.5</td>\n",
       "    </tr>\n",
       "  </tbody>\n",
       "</table>\n",
       "</div>"
      ],
      "text/plain": [
       "   STUDY          ACTION_LABEL  LOG_HRS  STUDY_HRS\n",
       "0  37216  Metadata-study-level      6.5      712.5\n",
       "1  37216        Quality-checks      1.0      712.5\n",
       "2  37216        Quality-checks      8.0      712.5\n",
       "3  37216  Metadata-study-level      4.0      712.5\n",
       "4  37216          Non-curation      7.0      712.5"
      ]
     },
     "execution_count": 13,
     "metadata": {},
     "output_type": "execute_result"
    }
   ],
   "source": [
    "df_action.head(5)"
   ]
  },
  {
   "cell_type": "markdown",
   "id": "d9eea1c5-459a-43fb-ae31-a7366af5d1fc",
   "metadata": {},
   "source": [
    "**PROCESSING HISTORY COMMANDS** from SPSS processing history files\n",
    "\n",
    "Will not include in deposit"
   ]
  },
  {
   "cell_type": "code",
   "execution_count": 14,
   "id": "f094eaa3-b19a-4f87-9746-10f7850f5fa5",
   "metadata": {
    "tags": []
   },
   "outputs": [],
   "source": [
    "# df_processing = pd.read_csv('../data_original/processing_history_commands_2019_20220502.csv')\n",
    "# df_processing = df_processing.drop(columns=['filename','savedate'])\n",
    "# df_processing.columns = [x.upper() for x in df_processing.columns]\n",
    "# df_processing['STUDY'] = df_processing['STUDY'].astype('int')\n",
    "# df_processing['TOTAL_LINES'] = df_processing['TOTAL_LINES'].astype('int')\n",
    "# df_processing['COMMENTS'] = df_processing['COMMENTS'].astype('int')\n",
    "# df_processing.to_csv('../data_transform/ICPSR_PROCESSING_HISTORY.csv',index=False)\n",
    "\n",
    "# for column in df_processing.columns:\n",
    "#     print(column)"
   ]
  },
  {
   "cell_type": "code",
   "execution_count": 15,
   "id": "9dd2031a-ab0e-401e-a6cc-d747fde8e287",
   "metadata": {
    "tags": []
   },
   "outputs": [],
   "source": [
    "# df_processing.sample(5)"
   ]
  },
  {
   "cell_type": "code",
   "execution_count": null,
   "id": "ba7fcad1-cc3d-482d-8c8f-f216964eedd4",
   "metadata": {},
   "outputs": [],
   "source": []
  }
 ],
 "metadata": {
  "kernelspec": {
   "display_name": "Python 3",
   "language": "python",
   "name": "python3"
  },
  "language_info": {
   "codemirror_mode": {
    "name": "ipython",
    "version": 3
   },
   "file_extension": ".py",
   "mimetype": "text/x-python",
   "name": "python",
   "nbconvert_exporter": "python",
   "pygments_lexer": "ipython3",
   "version": "3.9.5"
  }
 },
 "nbformat": 4,
 "nbformat_minor": 5
}
