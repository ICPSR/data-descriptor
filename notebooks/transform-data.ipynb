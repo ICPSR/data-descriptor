{
 "cells": [
  {
   "cell_type": "markdown",
   "id": "e964ba15-86fa-4d38-a825-dd0eff64ba08",
   "metadata": {},
   "source": [
    "# Transform data\n",
    "Pre-process data records used in original research articles\n",
    "- assign column types, clean\n",
    "- rename, reorder columns\n",
    "- merge tables on keys"
   ]
  },
  {
   "cell_type": "code",
   "execution_count": 1,
   "id": "0eee2d5f-2cd6-4376-8ec6-6f039ff59206",
   "metadata": {
    "tags": []
   },
   "outputs": [],
   "source": [
    "import pandas as pd\n",
    "import numpy as np\n",
    "import re"
   ]
  },
  {
   "cell_type": "markdown",
   "id": "d26da49f-3abd-43b3-a62d-ace6847b99d4",
   "metadata": {},
   "source": [
    "Text cleaning helper functions"
   ]
  },
  {
   "cell_type": "code",
   "execution_count": 2,
   "id": "e9c282b4-5383-4ba4-a84b-b5ea9739e354",
   "metadata": {},
   "outputs": [],
   "source": [
    "def remove_nonascii(text):\n",
    "    return \"\".join(i for i in text if ord(i)<128)\n",
    "\n",
    "def remove_html(text):\n",
    "    html_pattern = re.compile('<.*?>')\n",
    "    return html_pattern.sub(r'', text)"
   ]
  },
  {
   "cell_type": "markdown",
   "id": "a84535e7-1659-47d3-9b29-de3e4fd412cb",
   "metadata": {},
   "source": [
    "**PAPERS** from ICPSR Bibliography (DBInfo)"
   ]
  },
  {
   "cell_type": "code",
   "execution_count": 3,
   "id": "e7999f88-8538-42cc-84f7-d794181c424f",
   "metadata": {
    "tags": []
   },
   "outputs": [
    {
     "name": "stdout",
     "output_type": "stream",
     "text": [
      "<class 'pandas.core.frame.DataFrame'>\n",
      "Index: 94755 entries, 0 to 99648\n",
      "Data columns (total 11 columns):\n",
      " #   Column       Non-Null Count  Dtype         \n",
      "---  ------       --------------  -----         \n",
      " 0   REF_ID       94755 non-null  int64         \n",
      " 1   DOI          43063 non-null  object        \n",
      " 2   TITLE        94750 non-null  object        \n",
      " 3   AUTHORS      94754 non-null  object        \n",
      " 4   SEC_TITLE    78193 non-null  object        \n",
      " 5   RIS_TYPE     94755 non-null  category      \n",
      " 6   FUNDER       490 non-null    object        \n",
      " 7   YEAR_PUB     94755 non-null  int64         \n",
      " 8   DATE_INPUT   94079 non-null  datetime64[ns]\n",
      " 9   SERIES_NUMS  2338 non-null   object        \n",
      " 10  STUDY_NUMS   94755 non-null  object        \n",
      "dtypes: category(1), datetime64[ns](1), int64(2), object(7)\n",
      "memory usage: 8.0+ MB\n"
     ]
    }
   ],
   "source": [
    "df_paper = pd.read_excel('../data_original/ICPSR_bib_studies_20211111.xlsx', sheet_name=0)\n",
    "\n",
    "df_paper = df_paper[df_paper['STUD_NUMS'].notna()] # remove papers that do not have study numbers\n",
    "\n",
    "df_paper['REF_ID'] = df_paper['REF_ID'].astype('int')\n",
    "df_paper['TITLE'] = df_paper['TITLE'].str.strip() # remove whitespace from original record entry\n",
    "df_paper['AUTHORS'] = df_paper['AUTHORS'].str.strip()\n",
    "df_paper['SEC_TITLE'] = df_paper['SEC_TITLE'].str.strip()\n",
    "df_paper['RIS_TYPE'] = df_paper['RIS_TYPE'].str.strip()\n",
    "df_paper['RIS_TYPE'] = df_paper['RIS_TYPE'].astype('category')\n",
    "df_paper['FUNDER'] = df_paper['FUNDER'].str.strip()\n",
    "df_paper['YEAR_PUB'] = df_paper['YEAR_PUB'].fillna(0).astype('int')\n",
    "df_paper['DATE_INPUT'] = df_paper['DATE_INPUT'].astype('datetime64[ns]')\n",
    "df_paper['STUD_NUMS'] = df_paper['STUD_NUMS'].astype('str')\n",
    "\n",
    "df_paper.loc[df_paper['YEAR_PUB']<1963,'YEAR_PUB'] = 0  # replace publication year for any item published before ICPSR was established\n",
    "\n",
    "df_paper = df_paper.rename(columns={'STUD_NUMS':'STUDY_NUMS'})\n",
    "\n",
    "df_paper = df_paper[['REF_ID',\n",
    "                     'DOI',\n",
    "                     'TITLE',\n",
    "                     'AUTHORS',\n",
    "                     'SEC_TITLE',\n",
    "                     'RIS_TYPE',\n",
    "                     'FUNDER',\n",
    "                     'YEAR_PUB',\n",
    "                     'DATE_INPUT',\n",
    "                     'SERIES_NUMS',\n",
    "                     'STUDY_NUMS']]\n",
    "\n",
    "df_paper.info()"
   ]
  },
  {
   "cell_type": "code",
   "execution_count": 4,
   "id": "f8899540-83d1-4cf7-ac66-509b1f0990e1",
   "metadata": {},
   "outputs": [
    {
     "name": "stdout",
     "output_type": "stream",
     "text": [
      "<class 'pandas.core.frame.DataFrame'>\n",
      "RangeIndex: 44680 entries, 0 to 44679\n",
      "Data columns (total 3 columns):\n",
      " #   Column       Non-Null Count  Dtype \n",
      "---  ------       --------------  ----- \n",
      " 0   DOI          44680 non-null  object\n",
      " 1   DIM_ID       44680 non-null  object\n",
      " 2   DIM_LINKOUT  16258 non-null  object\n",
      "dtypes: object(3)\n",
      "memory usage: 1.0+ MB\n"
     ]
    }
   ],
   "source": [
    "df_dimensions = pd.read_csv('../data_original/enriched_bibliography.csv') # Dimensions run on 2021/11/09\n",
    "\n",
    "df_dimensions = df_dimensions.rename(columns={'doi':'DOI',\n",
    "                                              'id':'DIM_ID',\n",
    "                                              'linkout':'DIM_LINKOUT'})\n",
    "\n",
    "df_dimensions.info()"
   ]
  },
  {
   "cell_type": "code",
   "execution_count": 5,
   "id": "99adff0d-54fe-4e3b-b401-2d95fbfa5a16",
   "metadata": {},
   "outputs": [
    {
     "name": "stdout",
     "output_type": "stream",
     "text": [
      "<class 'pandas.core.frame.DataFrame'>\n",
      "RangeIndex: 94794 entries, 0 to 94793\n",
      "Data columns (total 13 columns):\n",
      " #   Column       Non-Null Count  Dtype         \n",
      "---  ------       --------------  -----         \n",
      " 0   REF_ID       94794 non-null  int64         \n",
      " 1   DOI          43102 non-null  object        \n",
      " 2   TITLE        94789 non-null  object        \n",
      " 3   AUTHORS      94793 non-null  object        \n",
      " 4   SEC_TITLE    78231 non-null  object        \n",
      " 5   RIS_TYPE     94794 non-null  category      \n",
      " 6   FUNDER       490 non-null    object        \n",
      " 7   YEAR_PUB     94794 non-null  int64         \n",
      " 8   DATE_INPUT   94118 non-null  datetime64[ns]\n",
      " 9   SERIES_NUMS  2338 non-null   object        \n",
      " 10  STUDY_NUMS   94794 non-null  object        \n",
      " 11  DIM_ID       40646 non-null  object        \n",
      " 12  DIM_LINKOUT  14982 non-null  object        \n",
      "dtypes: category(1), datetime64[ns](1), int64(2), object(9)\n",
      "memory usage: 8.8+ MB\n"
     ]
    }
   ],
   "source": [
    "df_paper_merge = df_paper.merge(df_dimensions, on='DOI', how='left') # merge on paper DOIs\n",
    "df_paper_merge.to_csv('../data_transform/ICPSR_PAPERS.csv',index=False)\n",
    "df_paper_merge.info()"
   ]
  },
  {
   "cell_type": "code",
   "execution_count": 6,
   "id": "4a9873d1-0df1-4b88-9ac9-4474d4ebcc95",
   "metadata": {
    "tags": []
   },
   "outputs": [
    {
     "data": {
      "text/html": [
       "<div>\n",
       "<style scoped>\n",
       "    .dataframe tbody tr th:only-of-type {\n",
       "        vertical-align: middle;\n",
       "    }\n",
       "\n",
       "    .dataframe tbody tr th {\n",
       "        vertical-align: top;\n",
       "    }\n",
       "\n",
       "    .dataframe thead th {\n",
       "        text-align: right;\n",
       "    }\n",
       "</style>\n",
       "<table border=\"1\" class=\"dataframe\">\n",
       "  <thead>\n",
       "    <tr style=\"text-align: right;\">\n",
       "      <th></th>\n",
       "      <th>REF_ID</th>\n",
       "      <th>DOI</th>\n",
       "      <th>TITLE</th>\n",
       "      <th>AUTHORS</th>\n",
       "      <th>SEC_TITLE</th>\n",
       "      <th>RIS_TYPE</th>\n",
       "      <th>FUNDER</th>\n",
       "      <th>YEAR_PUB</th>\n",
       "      <th>DATE_INPUT</th>\n",
       "      <th>SERIES_NUMS</th>\n",
       "      <th>STUDY_NUMS</th>\n",
       "      <th>DIM_ID</th>\n",
       "      <th>DIM_LINKOUT</th>\n",
       "    </tr>\n",
       "  </thead>\n",
       "  <tbody>\n",
       "    <tr>\n",
       "      <th>44018</th>\n",
       "      <td>83015</td>\n",
       "      <td>NaN</td>\n",
       "      <td>Group Implication: How Implicit Cues Link Publ...</td>\n",
       "      <td>Winter, Nicholas J.G.</td>\n",
       "      <td>annual meeting of the American Political Scien...</td>\n",
       "      <td>CONF</td>\n",
       "      <td>NaN</td>\n",
       "      <td>2004</td>\n",
       "      <td>2009-11-06 00:00:00</td>\n",
       "      <td>NaN</td>\n",
       "      <td>8475</td>\n",
       "      <td>NaN</td>\n",
       "      <td>NaN</td>\n",
       "    </tr>\n",
       "    <tr>\n",
       "      <th>84477</th>\n",
       "      <td>147727</td>\n",
       "      <td>NaN</td>\n",
       "      <td>Innumeracy in Turkey: Misperceptions of an eme...</td>\n",
       "      <td>Herda, Daniel</td>\n",
       "      <td>Insight Turkey</td>\n",
       "      <td>JOUR</td>\n",
       "      <td>NaN</td>\n",
       "      <td>2015</td>\n",
       "      <td>2020-05-19 15:30:41</td>\n",
       "      <td>NaN</td>\n",
       "      <td>34973</td>\n",
       "      <td>NaN</td>\n",
       "      <td>NaN</td>\n",
       "    </tr>\n",
       "    <tr>\n",
       "      <th>7810</th>\n",
       "      <td>9497</td>\n",
       "      <td>NaN</td>\n",
       "      <td>The Adequacy of Household Saving</td>\n",
       "      <td>Engen, Eric M.; Gale, William G.; Uccello, Cor...</td>\n",
       "      <td>Brookings Papers on Economic Activity</td>\n",
       "      <td>JOUR</td>\n",
       "      <td>NaN</td>\n",
       "      <td>1999</td>\n",
       "      <td>2001-05-17 00:00:00</td>\n",
       "      <td>NaN</td>\n",
       "      <td>06854; 09751; 09687; 06729; 02193</td>\n",
       "      <td>NaN</td>\n",
       "      <td>NaN</td>\n",
       "    </tr>\n",
       "    <tr>\n",
       "      <th>50056</th>\n",
       "      <td>96299</td>\n",
       "      <td>NaN</td>\n",
       "      <td>Discrimination in the low-wage workplace: The ...</td>\n",
       "      <td>Roy, A.L.; Yoshikawa, Hirokazu; Nay, S.</td>\n",
       "      <td>Making It Work Low-Wage Employment, Family Lif...</td>\n",
       "      <td>CHAP</td>\n",
       "      <td>NaN</td>\n",
       "      <td>0</td>\n",
       "      <td>2011-06-08 00:00:00</td>\n",
       "      <td>NaN</td>\n",
       "      <td>30282</td>\n",
       "      <td>NaN</td>\n",
       "      <td>NaN</td>\n",
       "    </tr>\n",
       "    <tr>\n",
       "      <th>58292</th>\n",
       "      <td>114048</td>\n",
       "      <td>NaN</td>\n",
       "      <td>Does access to charity care for the uninsured ...</td>\n",
       "      <td>Herring, Bradley</td>\n",
       "      <td>Yale University's Institution for Social and P...</td>\n",
       "      <td>CONF</td>\n",
       "      <td>NaN</td>\n",
       "      <td>2000</td>\n",
       "      <td>2014-01-22 00:00:00</td>\n",
       "      <td>NaN</td>\n",
       "      <td>2524; 3199; 3764</td>\n",
       "      <td>NaN</td>\n",
       "      <td>NaN</td>\n",
       "    </tr>\n",
       "  </tbody>\n",
       "</table>\n",
       "</div>"
      ],
      "text/plain": [
       "       REF_ID  DOI                                              TITLE   \n",
       "44018   83015  NaN  Group Implication: How Implicit Cues Link Publ...  \\\n",
       "84477  147727  NaN  Innumeracy in Turkey: Misperceptions of an eme...   \n",
       "7810     9497  NaN                   The Adequacy of Household Saving   \n",
       "50056   96299  NaN  Discrimination in the low-wage workplace: The ...   \n",
       "58292  114048  NaN  Does access to charity care for the uninsured ...   \n",
       "\n",
       "                                                 AUTHORS   \n",
       "44018                              Winter, Nicholas J.G.  \\\n",
       "84477                                      Herda, Daniel   \n",
       "7810   Engen, Eric M.; Gale, William G.; Uccello, Cor...   \n",
       "50056            Roy, A.L.; Yoshikawa, Hirokazu; Nay, S.   \n",
       "58292                                   Herring, Bradley   \n",
       "\n",
       "                                               SEC_TITLE RIS_TYPE FUNDER   \n",
       "44018  annual meeting of the American Political Scien...     CONF    NaN  \\\n",
       "84477                                     Insight Turkey     JOUR    NaN   \n",
       "7810               Brookings Papers on Economic Activity     JOUR    NaN   \n",
       "50056  Making It Work Low-Wage Employment, Family Lif...     CHAP    NaN   \n",
       "58292  Yale University's Institution for Social and P...     CONF    NaN   \n",
       "\n",
       "       YEAR_PUB          DATE_INPUT SERIES_NUMS   \n",
       "44018      2004 2009-11-06 00:00:00         NaN  \\\n",
       "84477      2015 2020-05-19 15:30:41         NaN   \n",
       "7810       1999 2001-05-17 00:00:00         NaN   \n",
       "50056         0 2011-06-08 00:00:00         NaN   \n",
       "58292      2000 2014-01-22 00:00:00         NaN   \n",
       "\n",
       "                              STUDY_NUMS DIM_ID DIM_LINKOUT  \n",
       "44018                               8475    NaN         NaN  \n",
       "84477                              34973    NaN         NaN  \n",
       "7810   06854; 09751; 09687; 06729; 02193    NaN         NaN  \n",
       "50056                              30282    NaN         NaN  \n",
       "58292                   2524; 3199; 3764    NaN         NaN  "
      ]
     },
     "execution_count": 6,
     "metadata": {},
     "output_type": "execute_result"
    }
   ],
   "source": [
    "df_paper_merge.sample(5)"
   ]
  },
  {
   "cell_type": "markdown",
   "id": "638caa56-5d7d-4b2c-9e67-47b274f11893",
   "metadata": {},
   "source": [
    "**STUDIES** from ICPSR catalog (DBInfo)"
   ]
  },
  {
   "cell_type": "code",
   "execution_count": 7,
   "id": "428f50ec-ee00-4527-82a0-039c60c9052e",
   "metadata": {
    "tags": []
   },
   "outputs": [
    {
     "name": "stdout",
     "output_type": "stream",
     "text": [
      "<class 'pandas.core.frame.DataFrame'>\n",
      "Index: 10610 entries, 0 to 11660\n",
      "Data columns (total 12 columns):\n",
      " #   Column          Non-Null Count  Dtype         \n",
      "---  ------          --------------  -----         \n",
      " 0   STUDY           10610 non-null  int64         \n",
      " 1   NAME            10610 non-null  object        \n",
      " 2   SERIES          6683 non-null   float64       \n",
      " 3   SERIES_TITLE    6683 non-null   object        \n",
      " 4   OWNER           10610 non-null  category      \n",
      " 5   FUNDING_AGENCY  5256 non-null   object        \n",
      " 6   DOI             10610 non-null  object        \n",
      " 7   GEO             9956 non-null   object        \n",
      " 8   TERMS           10155 non-null  object        \n",
      " 9   RELEASE_DATE    10610 non-null  datetime64[ns]\n",
      " 10  PRINCIPAL_INV   10610 non-null  object        \n",
      " 11  DESCRIPTION     10610 non-null  object        \n",
      "dtypes: category(1), datetime64[ns](1), float64(1), int64(1), object(8)\n",
      "memory usage: 1005.8+ KB\n"
     ]
    }
   ],
   "source": [
    "df_study = pd.read_excel('../data_original/ICPSR_bib_studies_20211111.xlsx', sheet_name=1)\n",
    "df_study = df_study[df_study['PERMIT']=='AVAILABLE'] # remove studies that are not publicly available\n",
    "df_study = df_study[df_study['OBJECTTYPE']=='study'] # remove union catalog entries\n",
    "\n",
    "df_study['DESCRIPTION'] = df_study['DESCRIPTION_1'].astype('str') \\\n",
    "    + \" \" + df_study['DESCRIPTION_2'].astype('str') \\\n",
    "    + \" \" + df_study['DESCRIPTION_3'].astype('str') + \" \" \\\n",
    "    + df_study['DESCRIPTION_4'].astype('str') \\\n",
    "    + \" \" + df_study['DESCRIPTION_5'].astype('str') # combine study description to a single field\n",
    "\n",
    "df_study = df_study.drop(columns=['PERMIT',\n",
    "                                  'OBJECTTYPE',\n",
    "                                  'ALTTITLE1',\n",
    "                                  'ALTTITLE2',\n",
    "                                  'ALTTITLE3',\n",
    "                                  'ALTTITLE4',\n",
    "                                  'ALTTITLE5',\n",
    "                                  'ALTTITLE6',\n",
    "                                  'ALTTITLE7',\n",
    "                                  'DESCRIPTION_1',\n",
    "                                  'DESCRIPTION_2',\n",
    "                                  'DESCRIPTION_3',\n",
    "                                  'DESCRIPTION_4',\n",
    "                                  'DESCRIPTION_5'])\n",
    "\n",
    "df_study['STUDY'] = df_study['STUDY'].astype('int')\n",
    "df_study['NAME'] = df_study['NAME'].str.strip()\n",
    "df_study['SERIES'] = df_study['SERIES'].astype('str').astype('float')\n",
    "df_study['SERIES_TITLE'] = df_study['SERIES_TITLE'].str.strip()\n",
    "df_study['OWNER'] = df_study['OWNER'].astype('category')\n",
    "df_study['FUNDINGAGENCY'] = df_study['FUNDINGAGENCY'].str.strip()\n",
    "df_study['DOI'] = df_study['DOI'].str.strip()\n",
    "df_study['GEO'] = df_study['GEO'].str.strip()\n",
    "df_study['TERMS'] = df_study['TERMS'].str.strip()\n",
    "df_study['ORIGRELDATE'] = df_study['ORIGRELDATE'].fillna(0).astype('datetime64[ns]')\n",
    "df_study['MEMSERV_PI'] = df_study['MEMSERV_PI'].str.strip()\n",
    "df_study['DESCRIPTION'] = df_study['DESCRIPTION'].str.strip().astype('str')\n",
    "\n",
    "df_study['DESCRIPTION'] = df_study['DESCRIPTION'].apply(func=remove_nonascii) # remove nonascii\n",
    "df_study['DESCRIPTION'] = df_study['DESCRIPTION'].apply(func=remove_html) # remove html tags\n",
    "df_study['DESCRIPTION'] = df_study['DESCRIPTION'].replace(regex=[\"nan\"], value=\"\") # remove string \"nan\"\n",
    "\n",
    "df_study = df_study.rename(columns={'FUNDINGAGENCY':'FUNDING_AGENCY','ORIGRELDATE':'RELEASE_DATE','MEMSERV_PI':'PRINCIPAL_INV'})\n",
    "df_study.info()"
   ]
  },
  {
   "cell_type": "markdown",
   "id": "97203326-5b24-4e78-a27f-c397f4a4c981",
   "metadata": {},
   "source": [
    "Study table: usage"
   ]
  },
  {
   "cell_type": "code",
   "execution_count": 8,
   "id": "804e98c1-3478-451e-9680-500b54d3d1ed",
   "metadata": {
    "tags": []
   },
   "outputs": [
    {
     "name": "stdout",
     "output_type": "stream",
     "text": [
      "<class 'pandas.core.frame.DataFrame'>\n",
      "RangeIndex: 461 entries, 0 to 460\n",
      "Data columns (total 11 columns):\n",
      " #   Column                 Non-Null Count  Dtype  \n",
      "---  ------                 --------------  -----  \n",
      " 0   STUDY                  461 non-null    int64  \n",
      " 1   SINGLE_PI              461 non-null    int64  \n",
      " 2   INST_PI                461 non-null    int64  \n",
      " 3   TOT_PI                 461 non-null    int64  \n",
      " 4   SDA                    461 non-null    int64  \n",
      " 5   QTEXT                  453 non-null    float64\n",
      " 6   SSVD                   453 non-null    float64\n",
      " 7   USERS_TO_20210511      457 non-null    float64\n",
      " 8   DATAUSERS_TO_20210511  455 non-null    float64\n",
      " 9   HAS_RESTRICTED         461 non-null    int64  \n",
      " 10  ALL_RESTRICTED         461 non-null    int64  \n",
      "dtypes: float64(4), int64(7)\n",
      "memory usage: 39.7 KB\n"
     ]
    }
   ],
   "source": [
    "df_usage = pd.read_excel('../data_original/ICPSR_combined_study_usage_20210430_onlyData_noAllREST.xlsx',sheet_name=0)\n",
    "df_usage = df_usage.drop(columns=['DATA_PULL_DATE','ORIGRELDATE','OWNER','OWNER_ICPSR','MEMBER','DAYSINSAMPLE_TO20210430','DAYSINSAMPLE_TO20151231','RECENCY','SERIESYN','VARS','SAMPLING','PROPORTIONREST','TOT_DATA', 'NUMTERMS'])\n",
    "\n",
    "df_usage['STUDY'] = df_usage['STUDY'].astype('int')\n",
    "df_usage['SINGLEPI'] = df_usage['SINGLEPI'].astype('int')\n",
    "df_usage['INST_PI'] = df_usage['INST_PI'].astype('int')\n",
    "df_usage['TOT_PI'] = df_usage['TOT_PI'].astype('int')\n",
    "df_usage['SDA'] = df_usage['SDA'].astype('int')\n",
    "df_usage['QTEXT'] = df_usage['QTEXT'].astype('float')\n",
    "df_usage['SSVD'] = df_usage['SSVD'].astype('float')\n",
    "df_usage['USERS_2017_TO_PULLDATE'] = df_usage['USERS_2017_TO_PULLDATE'].astype('float')\n",
    "df_usage['DATAUSERS_2017_TO_PULLDATE'] = df_usage['DATAUSERS_2017_TO_PULLDATE'].astype('float')\n",
    "df_usage['HAS_RESTRICTED'] = df_usage['HAS_RESTRICTED'].astype('int')\n",
    "df_usage['ALL_RESTRICTED'] = df_usage['ALL_RESTRICTED'].astype('int')\n",
    "\n",
    "df_usage = df_usage.rename(columns={'USERS_2017_TO_PULLDATE':'USERS_TO_20210511','DATAUSERS_2017_TO_PULLDATE':'DATAUSERS_TO_20210511','SINGLEPI':'SINGLE_PI'})\n",
    "df_usage.info()"
   ]
  },
  {
   "cell_type": "markdown",
   "id": "458fa747-262f-4ef3-aa14-a6ffdc604f8d",
   "metadata": {},
   "source": [
    "Study table: curation level"
   ]
  },
  {
   "cell_type": "code",
   "execution_count": 9,
   "id": "ee62d80e-e0bb-4c98-9740-fce53facc6d0",
   "metadata": {
    "tags": []
   },
   "outputs": [
    {
     "name": "stdout",
     "output_type": "stream",
     "text": [
      "<class 'pandas.core.frame.DataFrame'>\n",
      "RangeIndex: 1367 entries, 0 to 1366\n",
      "Data columns (total 2 columns):\n",
      " #   Column          Non-Null Count  Dtype   \n",
      "---  ------          --------------  -----   \n",
      " 0   STUDY           1367 non-null   int64   \n",
      " 1   CURATION_LEVEL  1367 non-null   category\n",
      "dtypes: category(1), int64(1)\n",
      "memory usage: 12.4 KB\n"
     ]
    }
   ],
   "source": [
    "df_curation = pd.read_csv('../data_original/jira_curation_level_20210426_by_study.csv')\n",
    "df_curation = df_curation.drop(columns=['cur_lev_rank'])\n",
    "df_curation['study'] = df_curation['study'].astype('int')\n",
    "df_curation['curation_level'] = df_curation['curation_level'].astype('category')\n",
    "df_curation = df_curation.rename(columns={'study':'STUDY','curation_level':'CURATION_LEVEL'})\n",
    "df_curation.info()"
   ]
  },
  {
   "cell_type": "markdown",
   "id": "93b8c8f8-c24c-4049-ae67-af08ce178788",
   "metadata": {},
   "source": [
    "Study table: citations (count number of study citations from Bibliography)"
   ]
  },
  {
   "cell_type": "code",
   "execution_count": 10,
   "id": "77ed27f7-c54c-443e-84a7-cf2f44ca9253",
   "metadata": {
    "tags": []
   },
   "outputs": [
    {
     "name": "stdout",
     "output_type": "stream",
     "text": [
      "<class 'pandas.core.frame.DataFrame'>\n",
      "RangeIndex: 8377 entries, 0 to 8376\n",
      "Data columns (total 2 columns):\n",
      " #   Column                 Non-Null Count  Dtype\n",
      "---  ------                 --------------  -----\n",
      " 0   STUDY                  8377 non-null   int64\n",
      " 1   CITATIONS_TO_20211116  8377 non-null   int64\n",
      "dtypes: int64(2)\n",
      "memory usage: 131.0 KB\n"
     ]
    }
   ],
   "source": [
    "df_paper['STUDY'] = df_paper['STUDY_NUMS'].str.split(\";\") # split STUD_NUMS so that each row is one study\n",
    "df_paper = df_paper.explode('STUDY')\n",
    "df_paper['STUDY'] = df_paper['STUDY'].astype('int')\n",
    "\n",
    "df_citations = pd.DataFrame(df_paper['STUDY'].value_counts()).reset_index()\n",
    "df_citations = df_citations.rename(columns={'count':'CITATIONS_TO_20211116'})\n",
    "df_citations.info()"
   ]
  },
  {
   "cell_type": "markdown",
   "id": "04922181-8bc8-4973-921b-ccad4406e081",
   "metadata": {},
   "source": [
    "Study table: variable counts"
   ]
  },
  {
   "cell_type": "code",
   "execution_count": 11,
   "id": "60388318-2353-408f-bcf7-5469cba25df9",
   "metadata": {
    "tags": []
   },
   "outputs": [
    {
     "name": "stdout",
     "output_type": "stream",
     "text": [
      "<class 'pandas.core.frame.DataFrame'>\n",
      "RangeIndex: 9485 entries, 0 to 9484\n",
      "Data columns (total 2 columns):\n",
      " #   Column      Non-Null Count  Dtype\n",
      "---  ------      --------------  -----\n",
      " 0   STUDY       9485 non-null   int64\n",
      " 1   TOTAL_VARS  9485 non-null   int64\n",
      "dtypes: int64(2)\n",
      "memory usage: 148.3 KB\n"
     ]
    }
   ],
   "source": [
    "df_variables = pd.read_csv('../data_original/variable_counts_by_study.csv')\n",
    "df_variables['STUDY'] = df_variables['STUDY'].astype('int')\n",
    "df_variables['TOTALVARS'] = df_variables['TOTALVARS'].astype('int')\n",
    "df_variables = df_variables.rename(columns={'TOTALVARS':'TOTAL_VARS'})\n",
    "df_variables.info()"
   ]
  },
  {
   "cell_type": "markdown",
   "id": "ecc00ace-15c7-4b24-a7f5-f11a15b5caad",
   "metadata": {},
   "source": [
    "Merge STUDY tables"
   ]
  },
  {
   "cell_type": "code",
   "execution_count": 12,
   "id": "bd72ad2e-c1e7-461e-963d-2c984428490b",
   "metadata": {
    "tags": []
   },
   "outputs": [
    {
     "name": "stdout",
     "output_type": "stream",
     "text": [
      "<class 'pandas.core.frame.DataFrame'>\n",
      "RangeIndex: 10610 entries, 0 to 10609\n",
      "Data columns (total 25 columns):\n",
      " #   Column                 Non-Null Count  Dtype         \n",
      "---  ------                 --------------  -----         \n",
      " 0   STUDY                  10610 non-null  int64         \n",
      " 1   DOI                    10610 non-null  object        \n",
      " 2   NAME                   10610 non-null  object        \n",
      " 3   SERIES                 6683 non-null   float64       \n",
      " 4   SERIES_TITLE           6683 non-null   object        \n",
      " 5   PRINCIPAL_INV          10610 non-null  object        \n",
      " 6   DESCRIPTION            10610 non-null  object        \n",
      " 7   RELEASE_DATE           10610 non-null  datetime64[ns]\n",
      " 8   FUNDING_AGENCY         5256 non-null   object        \n",
      " 9   GEO                    9956 non-null   object        \n",
      " 10  TERMS                  10155 non-null  object        \n",
      " 11  OWNER                  10610 non-null  category      \n",
      " 12  CURATION_LEVEL         1125 non-null   category      \n",
      " 13  SINGLE_PI              421 non-null    float64       \n",
      " 14  INST_PI                421 non-null    float64       \n",
      " 15  TOT_PI                 421 non-null    float64       \n",
      " 16  TOTAL_VARS             9283 non-null   float64       \n",
      " 17  SDA                    421 non-null    float64       \n",
      " 18  QTEXT                  413 non-null    float64       \n",
      " 19  SSVD                   413 non-null    float64       \n",
      " 20  HAS_RESTRICTED         421 non-null    float64       \n",
      " 21  ALL_RESTRICTED         421 non-null    float64       \n",
      " 22  USERS_TO_20210511      417 non-null    float64       \n",
      " 23  DATAUSERS_TO_20210511  416 non-null    float64       \n",
      " 24  CITATIONS_TO_20211116  8030 non-null   float64       \n",
      "dtypes: category(2), datetime64[ns](1), float64(13), int64(1), object(8)\n",
      "memory usage: 1.9+ MB\n"
     ]
    }
   ],
   "source": [
    "df_study_merge = df_study.merge(df_usage, on='STUDY', how='left') \\\n",
    "    .merge(df_curation, on='STUDY', how='left') \\\n",
    "    .merge(df_citations, on='STUDY', how='left') \\\n",
    "    .merge(df_variables, on='STUDY', how='left') # merge all tables on main list of studies\n",
    "\n",
    "df_study_merge = df_study_merge[['STUDY', \n",
    "                               'DOI',\n",
    "                               'NAME',\n",
    "                               'SERIES',\n",
    "                               'SERIES_TITLE',\n",
    "                               'PRINCIPAL_INV',\n",
    "                               'DESCRIPTION',\n",
    "                               'RELEASE_DATE',\n",
    "                               'FUNDING_AGENCY',\n",
    "                               'GEO',\n",
    "                               'TERMS',\n",
    "                               'OWNER',\n",
    "                               'CURATION_LEVEL',\n",
    "                               'SINGLE_PI',\n",
    "                               'INST_PI',\n",
    "                               'TOT_PI',\n",
    "                               'TOTAL_VARS',\n",
    "                               'SDA',\n",
    "                               'QTEXT',\n",
    "                               'SSVD',\n",
    "                               'HAS_RESTRICTED',\n",
    "                               'ALL_RESTRICTED',\n",
    "                               'USERS_TO_20210511',\n",
    "                               'DATAUSERS_TO_20210511',\n",
    "                               'CITATIONS_TO_20211116']]\n",
    "\n",
    "df_study_merge.to_csv('../data_transform/ICPSR_STUDIES.csv',index=False)\n",
    "df_study_merge.info()"
   ]
  },
  {
   "cell_type": "code",
   "execution_count": 13,
   "id": "a0937318-db6a-4ca9-ac35-52282d904816",
   "metadata": {
    "tags": []
   },
   "outputs": [
    {
     "data": {
      "text/html": [
       "<div>\n",
       "<style scoped>\n",
       "    .dataframe tbody tr th:only-of-type {\n",
       "        vertical-align: middle;\n",
       "    }\n",
       "\n",
       "    .dataframe tbody tr th {\n",
       "        vertical-align: top;\n",
       "    }\n",
       "\n",
       "    .dataframe thead th {\n",
       "        text-align: right;\n",
       "    }\n",
       "</style>\n",
       "<table border=\"1\" class=\"dataframe\">\n",
       "  <thead>\n",
       "    <tr style=\"text-align: right;\">\n",
       "      <th></th>\n",
       "      <th>STUDY</th>\n",
       "      <th>DOI</th>\n",
       "      <th>NAME</th>\n",
       "      <th>SERIES</th>\n",
       "      <th>SERIES_TITLE</th>\n",
       "      <th>PRINCIPAL_INV</th>\n",
       "      <th>DESCRIPTION</th>\n",
       "      <th>RELEASE_DATE</th>\n",
       "      <th>FUNDING_AGENCY</th>\n",
       "      <th>GEO</th>\n",
       "      <th>...</th>\n",
       "      <th>TOT_PI</th>\n",
       "      <th>TOTAL_VARS</th>\n",
       "      <th>SDA</th>\n",
       "      <th>QTEXT</th>\n",
       "      <th>SSVD</th>\n",
       "      <th>HAS_RESTRICTED</th>\n",
       "      <th>ALL_RESTRICTED</th>\n",
       "      <th>USERS_TO_20210511</th>\n",
       "      <th>DATAUSERS_TO_20210511</th>\n",
       "      <th>CITATIONS_TO_20211116</th>\n",
       "    </tr>\n",
       "  </thead>\n",
       "  <tbody>\n",
       "    <tr>\n",
       "      <th>7736</th>\n",
       "      <td>29381</td>\n",
       "      <td>10.3886/ICPSR29381.v2</td>\n",
       "      <td>Federal Justice Statistics Program: Defendants...</td>\n",
       "      <td>73.0</td>\n",
       "      <td>Federal Justice Statistics Program Data Series</td>\n",
       "      <td>United States Department of Justice. Office of...</td>\n",
       "      <td>These data contain records of criminal defenda...</td>\n",
       "      <td>2011-02-07 15:10:31</td>\n",
       "      <td>United States Department of Justice. Office of...</td>\n",
       "      <td>United States</td>\n",
       "      <td>...</td>\n",
       "      <td>NaN</td>\n",
       "      <td>487.0</td>\n",
       "      <td>NaN</td>\n",
       "      <td>NaN</td>\n",
       "      <td>NaN</td>\n",
       "      <td>NaN</td>\n",
       "      <td>NaN</td>\n",
       "      <td>NaN</td>\n",
       "      <td>NaN</td>\n",
       "      <td>18.0</td>\n",
       "    </tr>\n",
       "    <tr>\n",
       "      <th>5981</th>\n",
       "      <td>9733</td>\n",
       "      <td>10.3886/ICPSR09733.v2</td>\n",
       "      <td>Fraud Victimization Survey, 1990: [United States]</td>\n",
       "      <td>NaN</td>\n",
       "      <td>NaN</td>\n",
       "      <td>Boyle, John M.</td>\n",
       "      <td>The fraud victimization survey was administere...</td>\n",
       "      <td>1992-03-04 00:00:00</td>\n",
       "      <td>United States Department of Justice. Office of...</td>\n",
       "      <td>United States</td>\n",
       "      <td>...</td>\n",
       "      <td>NaN</td>\n",
       "      <td>419.0</td>\n",
       "      <td>NaN</td>\n",
       "      <td>NaN</td>\n",
       "      <td>NaN</td>\n",
       "      <td>NaN</td>\n",
       "      <td>NaN</td>\n",
       "      <td>NaN</td>\n",
       "      <td>NaN</td>\n",
       "      <td>2.0</td>\n",
       "    </tr>\n",
       "    <tr>\n",
       "      <th>71</th>\n",
       "      <td>79</td>\n",
       "      <td>10.3886/ICPSR00079.v5</td>\n",
       "      <td>United States Historical Election Returns, 178...</td>\n",
       "      <td>59.0</td>\n",
       "      <td>United States Historical Election Returns Series</td>\n",
       "      <td>Inter-university Consortium for Political and ...</td>\n",
       "      <td>This data collection contains general election...</td>\n",
       "      <td>1984-06-19 00:00:00</td>\n",
       "      <td>National Endowment for the Humanities</td>\n",
       "      <td>Alabama; Connecticut; Delaware; Georgia; Illin...</td>\n",
       "      <td>...</td>\n",
       "      <td>NaN</td>\n",
       "      <td>10152.0</td>\n",
       "      <td>NaN</td>\n",
       "      <td>NaN</td>\n",
       "      <td>NaN</td>\n",
       "      <td>NaN</td>\n",
       "      <td>NaN</td>\n",
       "      <td>NaN</td>\n",
       "      <td>NaN</td>\n",
       "      <td>7.0</td>\n",
       "    </tr>\n",
       "    <tr>\n",
       "      <th>6200</th>\n",
       "      <td>9966</td>\n",
       "      <td>10.3886/ICPSR09966.v1</td>\n",
       "      <td>Milwaukee Domestic Violence Experiment, 1987-1989</td>\n",
       "      <td>NaN</td>\n",
       "      <td>NaN</td>\n",
       "      <td>Sherman, Lawrence W., Jannell D. Schmidt, and ...</td>\n",
       "      <td>This study represents a modified replication o...</td>\n",
       "      <td>1995-03-16 00:00:00</td>\n",
       "      <td>United States Department of Justice. Office of...</td>\n",
       "      <td>Milwaukee; United States</td>\n",
       "      <td>...</td>\n",
       "      <td>NaN</td>\n",
       "      <td>819.0</td>\n",
       "      <td>NaN</td>\n",
       "      <td>NaN</td>\n",
       "      <td>NaN</td>\n",
       "      <td>NaN</td>\n",
       "      <td>NaN</td>\n",
       "      <td>NaN</td>\n",
       "      <td>NaN</td>\n",
       "      <td>38.0</td>\n",
       "    </tr>\n",
       "    <tr>\n",
       "      <th>5643</th>\n",
       "      <td>9374</td>\n",
       "      <td>10.3886/ICPSR09374.v2</td>\n",
       "      <td>Current Population Survey: Annual Demographic ...</td>\n",
       "      <td>24.0</td>\n",
       "      <td>Current Population Survey Series</td>\n",
       "      <td>United States.  Bureau of the Census.</td>\n",
       "      <td>This data collection supplies standard monthly...</td>\n",
       "      <td>1990-06-21 00:00:00</td>\n",
       "      <td>NaN</td>\n",
       "      <td>United States</td>\n",
       "      <td>...</td>\n",
       "      <td>NaN</td>\n",
       "      <td>-2.0</td>\n",
       "      <td>NaN</td>\n",
       "      <td>NaN</td>\n",
       "      <td>NaN</td>\n",
       "      <td>NaN</td>\n",
       "      <td>NaN</td>\n",
       "      <td>NaN</td>\n",
       "      <td>NaN</td>\n",
       "      <td>278.0</td>\n",
       "    </tr>\n",
       "  </tbody>\n",
       "</table>\n",
       "<p>5 rows × 25 columns</p>\n",
       "</div>"
      ],
      "text/plain": [
       "      STUDY                    DOI   \n",
       "7736  29381  10.3886/ICPSR29381.v2  \\\n",
       "5981   9733  10.3886/ICPSR09733.v2   \n",
       "71       79  10.3886/ICPSR00079.v5   \n",
       "6200   9966  10.3886/ICPSR09966.v1   \n",
       "5643   9374  10.3886/ICPSR09374.v2   \n",
       "\n",
       "                                                   NAME  SERIES   \n",
       "7736  Federal Justice Statistics Program: Defendants...    73.0  \\\n",
       "5981  Fraud Victimization Survey, 1990: [United States]     NaN   \n",
       "71    United States Historical Election Returns, 178...    59.0   \n",
       "6200  Milwaukee Domestic Violence Experiment, 1987-1989     NaN   \n",
       "5643  Current Population Survey: Annual Demographic ...    24.0   \n",
       "\n",
       "                                          SERIES_TITLE   \n",
       "7736    Federal Justice Statistics Program Data Series  \\\n",
       "5981                                               NaN   \n",
       "71    United States Historical Election Returns Series   \n",
       "6200                                               NaN   \n",
       "5643                  Current Population Survey Series   \n",
       "\n",
       "                                          PRINCIPAL_INV   \n",
       "7736  United States Department of Justice. Office of...  \\\n",
       "5981                                     Boyle, John M.   \n",
       "71    Inter-university Consortium for Political and ...   \n",
       "6200  Sherman, Lawrence W., Jannell D. Schmidt, and ...   \n",
       "5643              United States.  Bureau of the Census.   \n",
       "\n",
       "                                            DESCRIPTION        RELEASE_DATE   \n",
       "7736  These data contain records of criminal defenda... 2011-02-07 15:10:31  \\\n",
       "5981  The fraud victimization survey was administere... 1992-03-04 00:00:00   \n",
       "71    This data collection contains general election... 1984-06-19 00:00:00   \n",
       "6200  This study represents a modified replication o... 1995-03-16 00:00:00   \n",
       "5643  This data collection supplies standard monthly... 1990-06-21 00:00:00   \n",
       "\n",
       "                                         FUNDING_AGENCY   \n",
       "7736  United States Department of Justice. Office of...  \\\n",
       "5981  United States Department of Justice. Office of...   \n",
       "71                National Endowment for the Humanities   \n",
       "6200  United States Department of Justice. Office of...   \n",
       "5643                                                NaN   \n",
       "\n",
       "                                                    GEO  ... TOT_PI   \n",
       "7736                                      United States  ...    NaN  \\\n",
       "5981                                      United States  ...    NaN   \n",
       "71    Alabama; Connecticut; Delaware; Georgia; Illin...  ...    NaN   \n",
       "6200                           Milwaukee; United States  ...    NaN   \n",
       "5643                                      United States  ...    NaN   \n",
       "\n",
       "     TOTAL_VARS SDA  QTEXT  SSVD  HAS_RESTRICTED  ALL_RESTRICTED   \n",
       "7736      487.0 NaN    NaN   NaN             NaN             NaN  \\\n",
       "5981      419.0 NaN    NaN   NaN             NaN             NaN   \n",
       "71      10152.0 NaN    NaN   NaN             NaN             NaN   \n",
       "6200      819.0 NaN    NaN   NaN             NaN             NaN   \n",
       "5643       -2.0 NaN    NaN   NaN             NaN             NaN   \n",
       "\n",
       "      USERS_TO_20210511  DATAUSERS_TO_20210511  CITATIONS_TO_20211116  \n",
       "7736                NaN                    NaN                   18.0  \n",
       "5981                NaN                    NaN                    2.0  \n",
       "71                  NaN                    NaN                    7.0  \n",
       "6200                NaN                    NaN                   38.0  \n",
       "5643                NaN                    NaN                  278.0  \n",
       "\n",
       "[5 rows x 25 columns]"
      ]
     },
     "execution_count": 13,
     "metadata": {},
     "output_type": "execute_result"
    }
   ],
   "source": [
    "df_study_merge.sample(5)"
   ]
  },
  {
   "cell_type": "markdown",
   "id": "1bb03e88-dc45-44ed-a628-298c58994559",
   "metadata": {},
   "source": [
    "**PREDICTED CURATION ACTIVITIES** from Jira work logs"
   ]
  },
  {
   "cell_type": "code",
   "execution_count": 14,
   "id": "869cf0ff-9134-4572-b53c-e6956fb1c7ce",
   "metadata": {
    "tags": []
   },
   "outputs": [
    {
     "name": "stdout",
     "output_type": "stream",
     "text": [
      "<class 'pandas.core.frame.DataFrame'>\n",
      "RangeIndex: 13425 entries, 0 to 13424\n",
      "Data columns (total 4 columns):\n",
      " #   Column        Non-Null Count  Dtype   \n",
      "---  ------        --------------  -----   \n",
      " 0   STUDY         13425 non-null  int64   \n",
      " 1   ACTION_LABEL  13425 non-null  category\n",
      " 2   LOG_HRS       12216 non-null  float64 \n",
      " 3   STUDY_HRS     13425 non-null  float64 \n",
      "dtypes: category(1), float64(2), int64(1)\n",
      "memory usage: 328.2 KB\n"
     ]
    }
   ],
   "source": [
    "df_action = pd.read_csv('../data_original/predicted_curation_by_study.csv')\n",
    "df_action = df_action.drop(columns=['Unnamed: 0','Desc']) # remove sentence index and work descriptions (identifiable)\n",
    "df_action = df_action.rename(columns={'Studies':'STUDY','Action':'ACTION_LABEL','Log_hrs':'LOG_HRS','Study_hrs':'STUDY_HRS'})\n",
    "df_action['STUDY'] = df_action['STUDY'].str.replace(\"s\",\"\") # remove \"s\" from study number\n",
    "df_action['STUDY'] = df_action['STUDY'].str.strip()\n",
    "df_action['STUDY'] = df_action['STUDY'].astype('int')\n",
    "df_action['ACTION_LABEL'] = df_action['ACTION_LABEL'].str.strip()\n",
    "df_action['ACTION_LABEL'] = df_action['ACTION_LABEL'].astype('category')\n",
    "df_action.to_csv('../data_transform/ICPSR_CURATION_LOGS.csv',index=False)\n",
    "df_action.info()"
   ]
  },
  {
   "cell_type": "code",
   "execution_count": 15,
   "id": "b20e5dc5-3588-4be6-bd01-daca9bf47233",
   "metadata": {
    "tags": []
   },
   "outputs": [
    {
     "data": {
      "text/html": [
       "<div>\n",
       "<style scoped>\n",
       "    .dataframe tbody tr th:only-of-type {\n",
       "        vertical-align: middle;\n",
       "    }\n",
       "\n",
       "    .dataframe tbody tr th {\n",
       "        vertical-align: top;\n",
       "    }\n",
       "\n",
       "    .dataframe thead th {\n",
       "        text-align: right;\n",
       "    }\n",
       "</style>\n",
       "<table border=\"1\" class=\"dataframe\">\n",
       "  <thead>\n",
       "    <tr style=\"text-align: right;\">\n",
       "      <th></th>\n",
       "      <th>STUDY</th>\n",
       "      <th>ACTION_LABEL</th>\n",
       "      <th>LOG_HRS</th>\n",
       "      <th>STUDY_HRS</th>\n",
       "    </tr>\n",
       "  </thead>\n",
       "  <tbody>\n",
       "    <tr>\n",
       "      <th>0</th>\n",
       "      <td>37216</td>\n",
       "      <td>Metadata-study-level</td>\n",
       "      <td>6.5</td>\n",
       "      <td>712.5</td>\n",
       "    </tr>\n",
       "    <tr>\n",
       "      <th>1</th>\n",
       "      <td>37216</td>\n",
       "      <td>Quality-checks</td>\n",
       "      <td>1.0</td>\n",
       "      <td>712.5</td>\n",
       "    </tr>\n",
       "    <tr>\n",
       "      <th>2</th>\n",
       "      <td>37216</td>\n",
       "      <td>Quality-checks</td>\n",
       "      <td>8.0</td>\n",
       "      <td>712.5</td>\n",
       "    </tr>\n",
       "    <tr>\n",
       "      <th>3</th>\n",
       "      <td>37216</td>\n",
       "      <td>Metadata-study-level</td>\n",
       "      <td>4.0</td>\n",
       "      <td>712.5</td>\n",
       "    </tr>\n",
       "    <tr>\n",
       "      <th>4</th>\n",
       "      <td>37216</td>\n",
       "      <td>Non-curation</td>\n",
       "      <td>7.0</td>\n",
       "      <td>712.5</td>\n",
       "    </tr>\n",
       "  </tbody>\n",
       "</table>\n",
       "</div>"
      ],
      "text/plain": [
       "   STUDY          ACTION_LABEL  LOG_HRS  STUDY_HRS\n",
       "0  37216  Metadata-study-level      6.5      712.5\n",
       "1  37216        Quality-checks      1.0      712.5\n",
       "2  37216        Quality-checks      8.0      712.5\n",
       "3  37216  Metadata-study-level      4.0      712.5\n",
       "4  37216          Non-curation      7.0      712.5"
      ]
     },
     "execution_count": 15,
     "metadata": {},
     "output_type": "execute_result"
    }
   ],
   "source": [
    "df_action.head(5)"
   ]
  },
  {
   "cell_type": "markdown",
   "id": "d9eea1c5-459a-43fb-ae31-a7366af5d1fc",
   "metadata": {},
   "source": [
    "**PROCESSING HISTORY COMMANDS** from SPSS processing history files\n",
    "\n",
    "Will not include in deposit"
   ]
  },
  {
   "cell_type": "code",
   "execution_count": 16,
   "id": "f094eaa3-b19a-4f87-9746-10f7850f5fa5",
   "metadata": {
    "tags": []
   },
   "outputs": [],
   "source": [
    "# df_processing = pd.read_csv('../data_original/processing_history_commands_2019_20220502.csv')\n",
    "# df_processing = df_processing.drop(columns=['filename','savedate'])\n",
    "# df_processing.columns = [x.upper() for x in df_processing.columns]\n",
    "# df_processing['STUDY'] = df_processing['STUDY'].astype('int')\n",
    "# df_processing['TOTAL_LINES'] = df_processing['TOTAL_LINES'].astype('int')\n",
    "# df_processing['COMMENTS'] = df_processing['COMMENTS'].astype('int')\n",
    "# df_processing.to_csv('../data_transform/ICPSR_PROCESSING_HISTORY.csv',index=False)\n",
    "\n",
    "# for column in df_processing.columns:\n",
    "#     print(column)"
   ]
  },
  {
   "cell_type": "code",
   "execution_count": 17,
   "id": "9dd2031a-ab0e-401e-a6cc-d747fde8e287",
   "metadata": {
    "tags": []
   },
   "outputs": [],
   "source": [
    "# df_processing.sample(5)"
   ]
  },
  {
   "cell_type": "code",
   "execution_count": null,
   "id": "ba7fcad1-cc3d-482d-8c8f-f216964eedd4",
   "metadata": {},
   "outputs": [],
   "source": []
  }
 ],
 "metadata": {
  "kernelspec": {
   "display_name": "Python 3",
   "language": "python",
   "name": "python3"
  },
  "language_info": {
   "codemirror_mode": {
    "name": "ipython",
    "version": 3
   },
   "file_extension": ".py",
   "mimetype": "text/x-python",
   "name": "python",
   "nbconvert_exporter": "python",
   "pygments_lexer": "ipython3",
   "version": "3.9.5"
  }
 },
 "nbformat": 4,
 "nbformat_minor": 5
}
