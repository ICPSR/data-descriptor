{
 "cells": [
  {
   "cell_type": "markdown",
   "id": "e964ba15-86fa-4d38-a825-dd0eff64ba08",
   "metadata": {},
   "source": [
    "# Transform data\n",
    "Pre-process data records used in original research articles\n",
    "- assign column types, clean\n",
    "- rename, reorder columns\n",
    "- merge tables on keys"
   ]
  },
  {
   "cell_type": "code",
   "execution_count": 1,
   "id": "0eee2d5f-2cd6-4376-8ec6-6f039ff59206",
   "metadata": {
    "tags": []
   },
   "outputs": [],
   "source": [
    "import pandas as pd\n",
    "import numpy as np\n",
    "import re"
   ]
  },
  {
   "cell_type": "markdown",
   "id": "d26da49f-3abd-43b3-a62d-ace6847b99d4",
   "metadata": {},
   "source": [
    "Text cleaning helper functions"
   ]
  },
  {
   "cell_type": "code",
   "execution_count": 2,
   "id": "e9c282b4-5383-4ba4-a84b-b5ea9739e354",
   "metadata": {},
   "outputs": [],
   "source": [
    "def remove_nonascii(text):\n",
    "    return \"\".join(i for i in text if ord(i)<128)\n",
    "\n",
    "def remove_html(text):\n",
    "    html_pattern = re.compile('<.*?>')\n",
    "    return html_pattern.sub(r'', text)"
   ]
  },
  {
   "cell_type": "markdown",
   "id": "a84535e7-1659-47d3-9b29-de3e4fd412cb",
   "metadata": {},
   "source": [
    "**PAPERS** from ICPSR Bibliography (DBInfo)"
   ]
  },
  {
   "cell_type": "code",
   "execution_count": null,
   "id": "e7999f88-8538-42cc-84f7-d794181c424f",
   "metadata": {
    "tags": []
   },
   "outputs": [],
   "source": [
    "df_paper = pd.read_excel('../data_original/ICPSR_bib_studies_20211111.xlsx', sheet_name=0)\n",
    "\n",
    "df_paper = df_paper[df_paper['STUD_NUMS'].notna()] # remove papers that do not have study numbers\n",
    "\n",
    "df_paper['REF_ID'] = df_paper['REF_ID'].astype('int')\n",
    "df_paper['TITLE'] = df_paper['TITLE'].str.strip() # remove whitespace from original record entry\n",
    "df_paper['AUTHORS'] = df_paper['AUTHORS'].str.strip()\n",
    "df_paper['SEC_TITLE'] = df_paper['SEC_TITLE'].str.strip()\n",
    "df_paper['RIS_TYPE'] = df_paper['RIS_TYPE'].str.strip()\n",
    "df_paper['RIS_TYPE'] = df_paper['RIS_TYPE'].astype('category')\n",
    "df_paper['FUNDER'] = df_paper['FUNDER'].str.strip()\n",
    "df_paper['YEAR_PUB'] = df_paper['YEAR_PUB'].fillna(0).astype('int')\n",
    "df_paper['DATE_INPUT'] = df_paper['DATE_INPUT'].astype('datetime64[ns]')\n",
    "df_paper['STUD_NUMS'] = df_paper['STUD_NUMS'].astype('str')\n",
    "\n",
    "df_paper.loc[df_paper['YEAR_PUB']<1963,'YEAR_PUB'] = 0  # replace publication year for any item published before ICPSR was established\n",
    "\n",
    "df_paper = df_paper.rename(columns={'STUD_NUMS':'STUDY_NUMS'})\n",
    "\n",
    "df_paper = df_paper[['REF_ID',\n",
    "                     'DOI',\n",
    "                     'TITLE',\n",
    "                     'AUTHORS',\n",
    "                     'SEC_TITLE',\n",
    "                     'RIS_TYPE',\n",
    "                     'FUNDER',\n",
    "                     'YEAR_PUB',\n",
    "                     'DATE_INPUT',\n",
    "                     'SERIES_NUMS',\n",
    "                     'STUDY_NUMS']]\n",
    "\n",
    "df_paper.info()"
   ]
  },
  {
   "cell_type": "code",
   "execution_count": null,
   "id": "f8899540-83d1-4cf7-ac66-509b1f0990e1",
   "metadata": {},
   "outputs": [],
   "source": [
    "df_dimensions = pd.read_csv('../data_original/enriched_bibliography.csv') # Dimensions run on 2021/11/09\n",
    "\n",
    "df_dimensions = df_dimensions.rename(columns={'doi':'DOI',\n",
    "                                              'id':'DIM_ID',\n",
    "                                              'authors':'DIM_AUTH_AFFIL',\n",
    "                                              'abstract':'DIM_ABSTRACT',\n",
    "                                              'linkout':'DIM_LINKOUT'})\n",
    "\n",
    "df_dimensions.info()"
   ]
  },
  {
   "cell_type": "code",
   "execution_count": null,
   "id": "99adff0d-54fe-4e3b-b401-2d95fbfa5a16",
   "metadata": {},
   "outputs": [],
   "source": [
    "df_paper_merge = df_paper.merge(df_dimensions, on='DOI', how='left') # merge on paper DOIs\n",
    "df_paper_merge.to_csv('../data_transform/ICPSR_PAPERS.csv',index=False)\n",
    "df_paper_merge.info()"
   ]
  },
  {
   "cell_type": "code",
   "execution_count": null,
   "id": "4a9873d1-0df1-4b88-9ac9-4474d4ebcc95",
   "metadata": {
    "tags": []
   },
   "outputs": [],
   "source": [
    "df_paper_merge.sample(5)"
   ]
  },
  {
   "cell_type": "markdown",
   "id": "638caa56-5d7d-4b2c-9e67-47b274f11893",
   "metadata": {},
   "source": [
    "**STUDIES** from ICPSR catalog (DBInfo)"
   ]
  },
  {
   "cell_type": "code",
   "execution_count": null,
   "id": "428f50ec-ee00-4527-82a0-039c60c9052e",
   "metadata": {
    "tags": []
   },
   "outputs": [],
   "source": [
    "df_study = pd.read_excel('../data_original/ICPSR_bib_studies_20211111.xlsx', sheet_name=1)\n",
    "df_study = df_study[df_study['PERMIT']=='AVAILABLE'] # remove studies that are not publicly available\n",
    "df_study = df_study[df_study['OBJECTTYPE']=='study'] # remove union catalog entries\n",
    "\n",
    "df_study['DESCRIPTION'] = df_study['DESCRIPTION_1'].astype('str') \\\n",
    "    + \" \" + df_study['DESCRIPTION_2'].astype('str') \\\n",
    "    + \" \" + df_study['DESCRIPTION_3'].astype('str') + \" \" \\\n",
    "    + df_study['DESCRIPTION_4'].astype('str') \\\n",
    "    + \" \" + df_study['DESCRIPTION_5'].astype('str') # combine study description to a single field\n",
    "\n",
    "df_study = df_study.drop(columns=['PERMIT',\n",
    "                                  'OBJECTTYPE',\n",
    "                                  'ALTTITLE1',\n",
    "                                  'ALTTITLE2',\n",
    "                                  'ALTTITLE3',\n",
    "                                  'ALTTITLE4',\n",
    "                                  'ALTTITLE5',\n",
    "                                  'ALTTITLE6',\n",
    "                                  'ALTTITLE7',\n",
    "                                  'DESCRIPTION_1',\n",
    "                                  'DESCRIPTION_2',\n",
    "                                  'DESCRIPTION_3',\n",
    "                                  'DESCRIPTION_4',\n",
    "                                  'DESCRIPTION_5'])\n",
    "\n",
    "df_study['STUDY'] = df_study['STUDY'].astype('int')\n",
    "df_study['NAME'] = df_study['NAME'].str.strip()\n",
    "df_study['SERIES'] = df_study['SERIES'].astype('str').astype('float')\n",
    "df_study['SERIES_TITLE'] = df_study['SERIES_TITLE'].str.strip()\n",
    "df_study['OWNER'] = df_study['OWNER'].astype('category')\n",
    "df_study['FUNDINGAGENCY'] = df_study['FUNDINGAGENCY'].str.strip()\n",
    "df_study['DOI'] = df_study['DOI'].str.strip()\n",
    "df_study['GEO'] = df_study['GEO'].str.strip()\n",
    "df_study['TERMS'] = df_study['TERMS'].str.strip()\n",
    "df_study['ORIGRELDATE'] = df_study['ORIGRELDATE'].fillna(0).astype('datetime64[ns]')\n",
    "df_study['MEMSERV_PI'] = df_study['MEMSERV_PI'].str.strip()\n",
    "df_study['DESCRIPTION'] = df_study['DESCRIPTION'].str.strip().astype('str')\n",
    "\n",
    "df_study['DESCRIPTION'] = df_study['DESCRIPTION'].apply(func=remove_nonascii) # remove nonascii\n",
    "df_study['DESCRIPTION'] = df_study['DESCRIPTION'].apply(func=remove_html) # remove html tags\n",
    "df_study['DESCRIPTION'] = df_study['DESCRIPTION'].replace(regex=[\"nan\"], value=\"\") # remove string \"nan\"\n",
    "\n",
    "df_study = df_study.rename(columns={'FUNDINGAGENCY':'FUNDING_AGENCY','ORIGRELDATE':'RELEASE_DATE','MEMSERV_PI':'PRINCIPAL_INV'})\n",
    "df_study.info()"
   ]
  },
  {
   "cell_type": "markdown",
   "id": "97203326-5b24-4e78-a27f-c397f4a4c981",
   "metadata": {},
   "source": [
    "Study table: usage"
   ]
  },
  {
   "cell_type": "code",
   "execution_count": null,
   "id": "804e98c1-3478-451e-9680-500b54d3d1ed",
   "metadata": {
    "tags": []
   },
   "outputs": [],
   "source": [
    "df_usage = pd.read_excel('../data_original/ICPSR_combined_study_usage_20210430_onlyData_noAllREST.xlsx',sheet_name=0)\n",
    "df_usage = df_usage.drop(columns=['DATA_PULL_DATE','ORIGRELDATE','OWNER','OWNER_ICPSR','MEMBER','DAYSINSAMPLE_TO20210430','DAYSINSAMPLE_TO20151231','RECENCY','SERIESYN','VARS','SAMPLING','PROPORTIONREST','TOT_DATA', 'NUMTERMS'])\n",
    "\n",
    "df_usage['STUDY'] = df_usage['STUDY'].astype('int')\n",
    "df_usage['SINGLEPI'] = df_usage['SINGLEPI'].astype('int')\n",
    "df_usage['INST_PI'] = df_usage['INST_PI'].astype('int')\n",
    "df_usage['TOT_PI'] = df_usage['TOT_PI'].astype('int')\n",
    "df_usage['SDA'] = df_usage['SDA'].astype('int')\n",
    "df_usage['QTEXT'] = df_usage['QTEXT'].astype('float')\n",
    "df_usage['SSVD'] = df_usage['SSVD'].astype('float')\n",
    "df_usage['USERS_2017_TO_PULLDATE'] = df_usage['USERS_2017_TO_PULLDATE'].astype('float')\n",
    "df_usage['DATAUSERS_2017_TO_PULLDATE'] = df_usage['DATAUSERS_2017_TO_PULLDATE'].astype('float')\n",
    "df_usage['HAS_RESTRICTED'] = df_usage['HAS_RESTRICTED'].astype('int')\n",
    "df_usage['ALL_RESTRICTED'] = df_usage['ALL_RESTRICTED'].astype('int')\n",
    "\n",
    "df_usage = df_usage.rename(columns={'USERS_2017_TO_PULLDATE':'USERS_TO_20210511','DATAUSERS_2017_TO_PULLDATE':'DATAUSERS_TO_20210511','SINGLEPI':'SINGLE_PI'})\n",
    "df_usage.info()"
   ]
  },
  {
   "cell_type": "markdown",
   "id": "458fa747-262f-4ef3-aa14-a6ffdc604f8d",
   "metadata": {},
   "source": [
    "Study table: curation level"
   ]
  },
  {
   "cell_type": "code",
   "execution_count": null,
   "id": "ee62d80e-e0bb-4c98-9740-fce53facc6d0",
   "metadata": {
    "tags": []
   },
   "outputs": [],
   "source": [
    "df_curation = pd.read_csv('../data_original/jira_curation_level_20210426_by_study.csv')\n",
    "df_curation = df_curation.drop(columns=['cur_lev_rank'])\n",
    "df_curation['study'] = df_curation['study'].astype('int')\n",
    "df_curation['curation_level'] = df_curation['curation_level'].astype('category')\n",
    "df_curation = df_curation.rename(columns={'study':'STUDY','curation_level':'CURATION_LEVEL'})\n",
    "df_curation.info()"
   ]
  },
  {
   "cell_type": "markdown",
   "id": "93b8c8f8-c24c-4049-ae67-af08ce178788",
   "metadata": {},
   "source": [
    "Study table: citations (count number of study citations from Bibliography)"
   ]
  },
  {
   "cell_type": "code",
   "execution_count": null,
   "id": "77ed27f7-c54c-443e-84a7-cf2f44ca9253",
   "metadata": {
    "tags": []
   },
   "outputs": [],
   "source": [
    "df_paper['STUDY'] = df_paper['STUDY_NUMS'].str.split(\";\") # split STUD_NUMS so that each row is one study\n",
    "df_paper = df_paper.explode('STUDY')\n",
    "df_paper['STUDY'] = df_paper['STUDY'].astype('int')\n",
    "\n",
    "df_citations = pd.DataFrame(df_paper['STUDY'].value_counts()).reset_index()\n",
    "df_citations = df_citations.rename(columns={'count':'CITATIONS_TO_20211116'})\n",
    "df_citations.info()"
   ]
  },
  {
   "cell_type": "markdown",
   "id": "04922181-8bc8-4973-921b-ccad4406e081",
   "metadata": {},
   "source": [
    "Study table: variable counts"
   ]
  },
  {
   "cell_type": "code",
   "execution_count": null,
   "id": "60388318-2353-408f-bcf7-5469cba25df9",
   "metadata": {
    "tags": []
   },
   "outputs": [],
   "source": [
    "df_variables = pd.read_csv('../data_original/variable_counts_by_study.csv')\n",
    "df_variables['STUDY'] = df_variables['STUDY'].astype('int')\n",
    "df_variables['TOTALVARS'] = df_variables['TOTALVARS'].astype('int')\n",
    "df_variables = df_variables.rename(columns={'TOTALVARS':'TOTAL_VARS'})\n",
    "df_variables.info()"
   ]
  },
  {
   "cell_type": "markdown",
   "id": "ecc00ace-15c7-4b24-a7f5-f11a15b5caad",
   "metadata": {},
   "source": [
    "Merge STUDY tables"
   ]
  },
  {
   "cell_type": "code",
   "execution_count": null,
   "id": "bd72ad2e-c1e7-461e-963d-2c984428490b",
   "metadata": {
    "tags": []
   },
   "outputs": [],
   "source": [
    "df_study_merge = df_study.merge(df_usage, on='STUDY', how='left') \\\n",
    "    .merge(df_curation, on='STUDY', how='left') \\\n",
    "    .merge(df_citations, on='STUDY', how='left') \\\n",
    "    .merge(df_variables, on='STUDY', how='left') # merge all tables on main list of studies\n",
    "\n",
    "df_study_merge = df_study_merge[['STUDY', \n",
    "                               'DOI',\n",
    "                               'NAME',\n",
    "                               'SERIES',\n",
    "                               'SERIES_TITLE',\n",
    "                               'PRINCIPAL_INV',\n",
    "                               'DESCRIPTION',\n",
    "                               'RELEASE_DATE',\n",
    "                               'FUNDING_AGENCY',\n",
    "                               'GEO',\n",
    "                               'TERMS',\n",
    "                               'OWNER',\n",
    "                               'CURATION_LEVEL',\n",
    "                               'SINGLE_PI',\n",
    "                               'INST_PI',\n",
    "                               'TOT_PI',\n",
    "                               'TOTAL_VARS',\n",
    "                               'SDA',\n",
    "                               'QTEXT',\n",
    "                               'SSVD',\n",
    "                               'HAS_RESTRICTED',\n",
    "                               'ALL_RESTRICTED',\n",
    "                               'USERS_TO_20210511',\n",
    "                               'DATAUSERS_TO_20210511',\n",
    "                               'CITATIONS_TO_20211116']]\n",
    "\n",
    "df_study_merge.to_csv('../data_transform/ICPSR_STUDIES.csv',index=False)\n",
    "df_study_merge.info()"
   ]
  },
  {
   "cell_type": "code",
   "execution_count": null,
   "id": "a0937318-db6a-4ca9-ac35-52282d904816",
   "metadata": {
    "tags": []
   },
   "outputs": [],
   "source": [
    "df_study_merge.sample(5)"
   ]
  },
  {
   "cell_type": "markdown",
   "id": "1bb03e88-dc45-44ed-a628-298c58994559",
   "metadata": {},
   "source": [
    "**PREDICTED CURATION ACTIVITIES** from Jira work logs"
   ]
  },
  {
   "cell_type": "code",
   "execution_count": null,
   "id": "869cf0ff-9134-4572-b53c-e6956fb1c7ce",
   "metadata": {
    "tags": []
   },
   "outputs": [],
   "source": [
    "df_action = pd.read_csv('../data_original/predicted_curation_by_study.csv')\n",
    "df_action = df_action.drop(columns=['Unnamed: 0','Desc']) # remove sentence index and work descriptions (identifiable)\n",
    "df_action = df_action.rename(columns={'Studies':'STUDY','Action':'ACTION_LABEL','Log_hrs':'LOG_HRS','Study_hrs':'STUDY_HRS'})\n",
    "df_action['STUDY'] = df_action['STUDY'].str.replace(\"s\",\"\") # remove \"s\" from study number\n",
    "df_action['STUDY'] = df_action['STUDY'].str.strip()\n",
    "df_action['STUDY'] = df_action['STUDY'].astype('int')\n",
    "df_action['ACTION_LABEL'] = df_action['ACTION_LABEL'].str.strip()\n",
    "df_action['ACTION_LABEL'] = df_action['ACTION_LABEL'].astype('category')\n",
    "df_action.to_csv('../data_transform/ICPSR_CURATION_LOGS.csv',index=False)\n",
    "df_action.info()"
   ]
  },
  {
   "cell_type": "code",
   "execution_count": null,
   "id": "b20e5dc5-3588-4be6-bd01-daca9bf47233",
   "metadata": {
    "tags": []
   },
   "outputs": [],
   "source": [
    "df_action.head(5)"
   ]
  },
  {
   "cell_type": "markdown",
   "id": "d9eea1c5-459a-43fb-ae31-a7366af5d1fc",
   "metadata": {},
   "source": [
    "**PROCESSING HISTORY COMMANDS** from SPSS processing history files\n",
    "\n",
    "Will not include in deposit"
   ]
  },
  {
   "cell_type": "code",
   "execution_count": null,
   "id": "f094eaa3-b19a-4f87-9746-10f7850f5fa5",
   "metadata": {
    "tags": []
   },
   "outputs": [],
   "source": [
    "# df_processing = pd.read_csv('../data_original/processing_history_commands_2019_20220502.csv')\n",
    "# df_processing = df_processing.drop(columns=['filename','savedate'])\n",
    "# df_processing.columns = [x.upper() for x in df_processing.columns]\n",
    "# df_processing['STUDY'] = df_processing['STUDY'].astype('int')\n",
    "# df_processing['TOTAL_LINES'] = df_processing['TOTAL_LINES'].astype('int')\n",
    "# df_processing['COMMENTS'] = df_processing['COMMENTS'].astype('int')\n",
    "# df_processing.to_csv('../data_transform/ICPSR_PROCESSING_HISTORY.csv',index=False)\n",
    "\n",
    "# for column in df_processing.columns:\n",
    "#     print(column)"
   ]
  },
  {
   "cell_type": "code",
   "execution_count": null,
   "id": "9dd2031a-ab0e-401e-a6cc-d747fde8e287",
   "metadata": {
    "tags": []
   },
   "outputs": [],
   "source": [
    "# df_processing.sample(5)"
   ]
  },
  {
   "cell_type": "code",
   "execution_count": null,
   "id": "ba7fcad1-cc3d-482d-8c8f-f216964eedd4",
   "metadata": {},
   "outputs": [],
   "source": []
  }
 ],
 "metadata": {
  "kernelspec": {
   "display_name": "Python 3",
   "language": "python",
   "name": "python3"
  },
  "language_info": {
   "codemirror_mode": {
    "name": "ipython",
    "version": 3
   },
   "file_extension": ".py",
   "mimetype": "text/x-python",
   "name": "python",
   "nbconvert_exporter": "python",
   "pygments_lexer": "ipython3",
   "version": "3.9.5"
  }
 },
 "nbformat": 4,
 "nbformat_minor": 5
}
